{
 "cells": [
  {
   "cell_type": "markdown",
   "id": "1736c639",
   "metadata": {},
   "source": [
    "# Análise Global de Diversidade"
   ]
  },
  {
   "cell_type": "code",
   "execution_count": 71,
   "id": "a7902320",
   "metadata": {},
   "outputs": [],
   "source": [
    "import pandas as pd\n",
    "import warnings \n",
    "warnings.filterwarnings(\"ignore\")"
   ]
  },
  {
   "cell_type": "code",
   "execution_count": 72,
   "id": "a2149d31",
   "metadata": {},
   "outputs": [],
   "source": [
    "ANOS = [2015, 2016, 2017, 2018, 2019]"
   ]
  },
  {
   "cell_type": "code",
   "execution_count": 73,
   "id": "e573c569",
   "metadata": {},
   "outputs": [
    {
     "data": {
      "text/html": [
       "<div>\n",
       "<style scoped>\n",
       "    .dataframe tbody tr th:only-of-type {\n",
       "        vertical-align: middle;\n",
       "    }\n",
       "\n",
       "    .dataframe tbody tr th {\n",
       "        vertical-align: top;\n",
       "    }\n",
       "\n",
       "    .dataframe thead th {\n",
       "        text-align: right;\n",
       "    }\n",
       "</style>\n",
       "<table border=\"1\" class=\"dataframe\">\n",
       "  <thead>\n",
       "    <tr style=\"text-align: right;\">\n",
       "      <th></th>\n",
       "      <th>NU_ANO_CENSO</th>\n",
       "      <th>CO_IES</th>\n",
       "      <th>TP_CATEGORIA_ADMINISTRATIVA</th>\n",
       "      <th>TP_ORGANIZACAO_ACADEMICA</th>\n",
       "      <th>CO_CURSO</th>\n",
       "      <th>CO_CURSO_POLO</th>\n",
       "      <th>TP_TURNO</th>\n",
       "      <th>TP_GRAU_ACADEMICO</th>\n",
       "      <th>TP_MODALIDADE_ENSINO</th>\n",
       "      <th>TP_NIVEL_ACADEMICO</th>\n",
       "      <th>...</th>\n",
       "      <th>CO_PAIS_DESTINO</th>\n",
       "      <th>IN_MATRICULA</th>\n",
       "      <th>IN_CONCLUINTE</th>\n",
       "      <th>IN_INGRESSO_TOTAL</th>\n",
       "      <th>IN_INGRESSO_VAGA_NOVA</th>\n",
       "      <th>IN_INGRESSO_PROCESSO_SELETIVO</th>\n",
       "      <th>NU_ANO_INGRESSO</th>\n",
       "      <th>CO_UF</th>\n",
       "      <th>NO_CURSO</th>\n",
       "      <th>SG_IES</th>\n",
       "    </tr>\n",
       "  </thead>\n",
       "  <tbody>\n",
       "    <tr>\n",
       "      <th>0</th>\n",
       "      <td>2015</td>\n",
       "      <td>578</td>\n",
       "      <td>1.0</td>\n",
       "      <td>1.0</td>\n",
       "      <td>13277.0</td>\n",
       "      <td>NaN</td>\n",
       "      <td>4.0</td>\n",
       "      <td>1.0</td>\n",
       "      <td>1.0</td>\n",
       "      <td>1.0</td>\n",
       "      <td>...</td>\n",
       "      <td>NaN</td>\n",
       "      <td>1.0</td>\n",
       "      <td>0.0</td>\n",
       "      <td>0.0</td>\n",
       "      <td>0.0</td>\n",
       "      <td>NaN</td>\n",
       "      <td>2013.0</td>\n",
       "      <td>29</td>\n",
       "      <td>CIÊNCIA DA COMPUTAÇÃO</td>\n",
       "      <td>UFBA</td>\n",
       "    </tr>\n",
       "    <tr>\n",
       "      <th>1</th>\n",
       "      <td>2015</td>\n",
       "      <td>578</td>\n",
       "      <td>1.0</td>\n",
       "      <td>1.0</td>\n",
       "      <td>13277.0</td>\n",
       "      <td>NaN</td>\n",
       "      <td>4.0</td>\n",
       "      <td>1.0</td>\n",
       "      <td>1.0</td>\n",
       "      <td>1.0</td>\n",
       "      <td>...</td>\n",
       "      <td>NaN</td>\n",
       "      <td>1.0</td>\n",
       "      <td>0.0</td>\n",
       "      <td>0.0</td>\n",
       "      <td>0.0</td>\n",
       "      <td>NaN</td>\n",
       "      <td>2013.0</td>\n",
       "      <td>29</td>\n",
       "      <td>CIÊNCIA DA COMPUTAÇÃO</td>\n",
       "      <td>UFBA</td>\n",
       "    </tr>\n",
       "    <tr>\n",
       "      <th>2</th>\n",
       "      <td>2015</td>\n",
       "      <td>578</td>\n",
       "      <td>1.0</td>\n",
       "      <td>1.0</td>\n",
       "      <td>13277.0</td>\n",
       "      <td>NaN</td>\n",
       "      <td>4.0</td>\n",
       "      <td>1.0</td>\n",
       "      <td>1.0</td>\n",
       "      <td>1.0</td>\n",
       "      <td>...</td>\n",
       "      <td>NaN</td>\n",
       "      <td>1.0</td>\n",
       "      <td>0.0</td>\n",
       "      <td>0.0</td>\n",
       "      <td>0.0</td>\n",
       "      <td>NaN</td>\n",
       "      <td>2013.0</td>\n",
       "      <td>29</td>\n",
       "      <td>CIÊNCIA DA COMPUTAÇÃO</td>\n",
       "      <td>UFBA</td>\n",
       "    </tr>\n",
       "    <tr>\n",
       "      <th>3</th>\n",
       "      <td>2015</td>\n",
       "      <td>578</td>\n",
       "      <td>1.0</td>\n",
       "      <td>1.0</td>\n",
       "      <td>13277.0</td>\n",
       "      <td>NaN</td>\n",
       "      <td>4.0</td>\n",
       "      <td>1.0</td>\n",
       "      <td>1.0</td>\n",
       "      <td>1.0</td>\n",
       "      <td>...</td>\n",
       "      <td>NaN</td>\n",
       "      <td>1.0</td>\n",
       "      <td>0.0</td>\n",
       "      <td>0.0</td>\n",
       "      <td>0.0</td>\n",
       "      <td>NaN</td>\n",
       "      <td>2013.0</td>\n",
       "      <td>29</td>\n",
       "      <td>CIÊNCIA DA COMPUTAÇÃO</td>\n",
       "      <td>UFBA</td>\n",
       "    </tr>\n",
       "    <tr>\n",
       "      <th>4</th>\n",
       "      <td>2015</td>\n",
       "      <td>578</td>\n",
       "      <td>1.0</td>\n",
       "      <td>1.0</td>\n",
       "      <td>13277.0</td>\n",
       "      <td>NaN</td>\n",
       "      <td>4.0</td>\n",
       "      <td>1.0</td>\n",
       "      <td>1.0</td>\n",
       "      <td>1.0</td>\n",
       "      <td>...</td>\n",
       "      <td>NaN</td>\n",
       "      <td>1.0</td>\n",
       "      <td>0.0</td>\n",
       "      <td>0.0</td>\n",
       "      <td>0.0</td>\n",
       "      <td>NaN</td>\n",
       "      <td>2013.0</td>\n",
       "      <td>29</td>\n",
       "      <td>CIÊNCIA DA COMPUTAÇÃO</td>\n",
       "      <td>UFBA</td>\n",
       "    </tr>\n",
       "  </tbody>\n",
       "</table>\n",
       "<p>5 rows × 108 columns</p>\n",
       "</div>"
      ],
      "text/plain": [
       "   NU_ANO_CENSO  CO_IES  TP_CATEGORIA_ADMINISTRATIVA  \\\n",
       "0          2015     578                          1.0   \n",
       "1          2015     578                          1.0   \n",
       "2          2015     578                          1.0   \n",
       "3          2015     578                          1.0   \n",
       "4          2015     578                          1.0   \n",
       "\n",
       "   TP_ORGANIZACAO_ACADEMICA  CO_CURSO  CO_CURSO_POLO  TP_TURNO  \\\n",
       "0                       1.0   13277.0            NaN       4.0   \n",
       "1                       1.0   13277.0            NaN       4.0   \n",
       "2                       1.0   13277.0            NaN       4.0   \n",
       "3                       1.0   13277.0            NaN       4.0   \n",
       "4                       1.0   13277.0            NaN       4.0   \n",
       "\n",
       "   TP_GRAU_ACADEMICO  TP_MODALIDADE_ENSINO  TP_NIVEL_ACADEMICO  ...  \\\n",
       "0                1.0                   1.0                 1.0  ...   \n",
       "1                1.0                   1.0                 1.0  ...   \n",
       "2                1.0                   1.0                 1.0  ...   \n",
       "3                1.0                   1.0                 1.0  ...   \n",
       "4                1.0                   1.0                 1.0  ...   \n",
       "\n",
       "  CO_PAIS_DESTINO IN_MATRICULA  IN_CONCLUINTE  IN_INGRESSO_TOTAL  \\\n",
       "0             NaN          1.0            0.0                0.0   \n",
       "1             NaN          1.0            0.0                0.0   \n",
       "2             NaN          1.0            0.0                0.0   \n",
       "3             NaN          1.0            0.0                0.0   \n",
       "4             NaN          1.0            0.0                0.0   \n",
       "\n",
       "   IN_INGRESSO_VAGA_NOVA  IN_INGRESSO_PROCESSO_SELETIVO  NU_ANO_INGRESSO  \\\n",
       "0                    0.0                            NaN           2013.0   \n",
       "1                    0.0                            NaN           2013.0   \n",
       "2                    0.0                            NaN           2013.0   \n",
       "3                    0.0                            NaN           2013.0   \n",
       "4                    0.0                            NaN           2013.0   \n",
       "\n",
       "   CO_UF               NO_CURSO  SG_IES  \n",
       "0     29  CIÊNCIA DA COMPUTAÇÃO    UFBA  \n",
       "1     29  CIÊNCIA DA COMPUTAÇÃO    UFBA  \n",
       "2     29  CIÊNCIA DA COMPUTAÇÃO    UFBA  \n",
       "3     29  CIÊNCIA DA COMPUTAÇÃO    UFBA  \n",
       "4     29  CIÊNCIA DA COMPUTAÇÃO    UFBA  \n",
       "\n",
       "[5 rows x 108 columns]"
      ]
     },
     "execution_count": 73,
     "metadata": {},
     "output_type": "execute_result"
    }
   ],
   "source": [
    "data_frame_diversidade = pd.read_csv('dataset/alunos_curso_2015_2019_tic_BA.csv')\n",
    "data_frame_diversidade.head()"
   ]
  },
  {
   "cell_type": "code",
   "execution_count": 74,
   "id": "6e196fb8",
   "metadata": {},
   "outputs": [],
   "source": [
    "replace_map_cor_raca = {\n",
    "    'TP_COR_RACA':{\n",
    "        0: 'Não quis declarar',  \n",
    "        1: 'Branca',\n",
    "        2: 'Preta',\n",
    "        3: 'Parda',\n",
    "        4: 'Amarela',\n",
    "        5: 'Indígena',\n",
    "        9: 'Sem informação'\n",
    "    }\n",
    "}"
   ]
  },
  {
   "cell_type": "code",
   "execution_count": 75,
   "id": "6e775dd7",
   "metadata": {},
   "outputs": [],
   "source": [
    "replace_map_sexo = {\n",
    "    'TP_SEXO':{\n",
    "        1: 'Feminino',\n",
    "        2: 'Masculino'\n",
    "    }\n",
    "}"
   ]
  },
  {
   "cell_type": "code",
   "execution_count": 76,
   "id": "f12a582d",
   "metadata": {},
   "outputs": [],
   "source": [
    "data_frame_diversidade.replace(replace_map_cor_raca, inplace=True)"
   ]
  },
  {
   "cell_type": "code",
   "execution_count": 77,
   "id": "348312f3",
   "metadata": {},
   "outputs": [],
   "source": [
    "data_frame_diversidade.replace(replace_map_sexo, inplace=True)"
   ]
  },
  {
   "cell_type": "code",
   "execution_count": 78,
   "id": "0be4efff",
   "metadata": {},
   "outputs": [
    {
     "data": {
      "text/plain": [
       "Não quis declarar    8399\n",
       "Parda                5518\n",
       "Preta                2654\n",
       "Branca               1615\n",
       "Amarela               107\n",
       "Indígena               66\n",
       "Sem informação         55\n",
       "Name: TP_COR_RACA, dtype: int64"
      ]
     },
     "execution_count": 78,
     "metadata": {},
     "output_type": "execute_result"
    }
   ],
   "source": [
    "data_frame_diversidade['TP_COR_RACA'].value_counts()"
   ]
  },
  {
   "cell_type": "markdown",
   "id": "51326b50",
   "metadata": {},
   "source": [
    "## Separação de dataframe por universidade"
   ]
  },
  {
   "cell_type": "code",
   "execution_count": 79,
   "id": "1086218f",
   "metadata": {},
   "outputs": [],
   "source": [
    "dataframe_IFBA = data_frame_diversidade[data_frame_diversidade['SG_IES'] == 'IFBA'] \n",
    "dataframe_UFBA = data_frame_diversidade[data_frame_diversidade['SG_IES'] == 'UFBA'] \n",
    "dataframe_UEFS = data_frame_diversidade[data_frame_diversidade['SG_IES'] == 'UEFS'] \n",
    "dataframe_UNEB = data_frame_diversidade[data_frame_diversidade['SG_IES'] == 'UNEB'] \n",
    "dataframe_IFBAIANO = data_frame_diversidade[data_frame_diversidade['SG_IES'] == 'IFBAIANO'] \n",
    "dataframe_UESB = data_frame_diversidade[data_frame_diversidade['SG_IES'] == 'UESB'] \n",
    "dataframe_UNIVASF= data_frame_diversidade[data_frame_diversidade['SG_IES'] == 'UNIVASF'] \n",
    "dataframe_UESC = data_frame_diversidade[data_frame_diversidade['SG_IES'] == 'UESC']"
   ]
  },
  {
   "cell_type": "code",
   "execution_count": 85,
   "id": "b7c0f0aa",
   "metadata": {},
   "outputs": [],
   "source": [
    "def calculo_desvio_padrao_colunas_categoricas(coluna, dataframe):\n",
    "    return round(dataframe[coluna].std(), 4)"
   ]
  },
  {
   "cell_type": "code",
   "execution_count": 81,
   "id": "98fbbfe4",
   "metadata": {},
   "outputs": [],
   "source": [
    "def min_max_scaler(dataframe, column_name):\n",
    "    min_param = dataframe[column_name].min()\n",
    "    max_param = dataframe[column_name].max()\n",
    "    return (dataframe[column_name] - min_param) / (max_param- min_param)\n",
    "        "
   ]
  },
  {
   "cell_type": "code",
   "execution_count": 94,
   "id": "a64bf91f",
   "metadata": {},
   "outputs": [],
   "source": [
    "lista_universidades = ['IFBA', 'UFBA', 'UEFS', 'UNEB', 'IFBAIANO', 'UESB', 'UNIVASF', 'UESC']"
   ]
  },
  {
   "cell_type": "markdown",
   "id": "55fd329b",
   "metadata": {},
   "source": [
    "## Análise da dimensão Gênero"
   ]
  },
  {
   "cell_type": "code",
   "execution_count": 95,
   "id": "aa85be88",
   "metadata": {},
   "outputs": [],
   "source": [
    "std_genero = {'IFBA': [], 'UFBA': [], 'UEFS': [], 'UNEB': [], 'IFBAIANO': [], 'UESB': [], 'UNIVASF': [], 'UESC': []}"
   ]
  },
  {
   "cell_type": "code",
   "execution_count": 96,
   "id": "8fa3953a",
   "metadata": {},
   "outputs": [],
   "source": [
    "dataframe_temp = data_frame_diversidade.groupby(['SG_IES', 'NU_ANO_CENSO'])\n",
    "dataframe_temp = dataframe_temp['TP_SEXO'].value_counts().to_frame(name = 'TP_SEXO_QUANTIDADE').reset_index()\n",
    "for ano in ANOS:\n",
    "    current_dataframe = dataframe_temp[dataframe_temp['NU_ANO_CENSO'] == ano]\n",
    "    current_dataframe['TP_SEXO_QUANTIDADE'] = min_max_scaler(current_dataframe, 'TP_SEXO_QUANTIDADE')\n",
    "    for universidade in lista_universidades:        \n",
    "        current_dataframe_temp = current_dataframe[current_dataframe['SG_IES'] == universidade] \n",
    "        std_result = calculo_desvio_padrao_colunas_categoricas('TP_SEXO_QUANTIDADE', current_dataframe_temp)    \n",
    "        std_genero[universidade].append(std_result)\n",
    "        "
   ]
  },
  {
   "cell_type": "code",
   "execution_count": 97,
   "id": "37e5d93c",
   "metadata": {},
   "outputs": [
    {
     "data": {
      "text/plain": [
       "{'IFBA': [0.3588, 0.3639, 0.4328, 0.4521, 0.495],\n",
       " 'UFBA': [0.592, 0.5852, 0.5922, 0.5989, 0.6094],\n",
       " 'UEFS': [0.276, 0.2404, 0.25, 0.2372, 0.2121],\n",
       " 'UNEB': [0.1094, 0.1243, 0.1448, 0.1371, 0.107],\n",
       " 'IFBAIANO': [0.1009, 0.1036, 0.0947, 0.0934, 0.109],\n",
       " 'UESB': [0.1475, 0.1401, 0.1311, 0.1282, 0.1204],\n",
       " 'UNIVASF': [0.1675, 0.1517, 0.1311, 0.1342, 0.1298],\n",
       " 'UESC': [0.1485, 0.121, 0.1238, 0.1127, 0.0916]}"
      ]
     },
     "execution_count": 97,
     "metadata": {},
     "output_type": "execute_result"
    }
   ],
   "source": [
    "std_genero"
   ]
  },
  {
   "cell_type": "code",
   "execution_count": 90,
   "id": "21c6d5df",
   "metadata": {},
   "outputs": [
    {
     "data": {
      "text/html": [
       "<div>\n",
       "<style scoped>\n",
       "    .dataframe tbody tr th:only-of-type {\n",
       "        vertical-align: middle;\n",
       "    }\n",
       "\n",
       "    .dataframe tbody tr th {\n",
       "        vertical-align: top;\n",
       "    }\n",
       "\n",
       "    .dataframe thead th {\n",
       "        text-align: right;\n",
       "    }\n",
       "</style>\n",
       "<table border=\"1\" class=\"dataframe\">\n",
       "  <thead>\n",
       "    <tr style=\"text-align: right;\">\n",
       "      <th></th>\n",
       "      <th>SG_IES</th>\n",
       "      <th>NU_ANO_CENSO</th>\n",
       "      <th>TP_SEXO</th>\n",
       "      <th>TP_SEXO_QUANTIDADE</th>\n",
       "    </tr>\n",
       "  </thead>\n",
       "  <tbody>\n",
       "    <tr>\n",
       "      <th>2</th>\n",
       "      <td>IFBA</td>\n",
       "      <td>2016</td>\n",
       "      <td>Masculino</td>\n",
       "      <td>697</td>\n",
       "    </tr>\n",
       "    <tr>\n",
       "      <th>3</th>\n",
       "      <td>IFBA</td>\n",
       "      <td>2016</td>\n",
       "      <td>Feminino</td>\n",
       "      <td>258</td>\n",
       "    </tr>\n",
       "    <tr>\n",
       "      <th>12</th>\n",
       "      <td>IFBAIANO</td>\n",
       "      <td>2016</td>\n",
       "      <td>Masculino</td>\n",
       "      <td>187</td>\n",
       "    </tr>\n",
       "    <tr>\n",
       "      <th>13</th>\n",
       "      <td>IFBAIANO</td>\n",
       "      <td>2016</td>\n",
       "      <td>Feminino</td>\n",
       "      <td>62</td>\n",
       "    </tr>\n",
       "    <tr>\n",
       "      <th>22</th>\n",
       "      <td>UEFS</td>\n",
       "      <td>2016</td>\n",
       "      <td>Masculino</td>\n",
       "      <td>332</td>\n",
       "    </tr>\n",
       "    <tr>\n",
       "      <th>23</th>\n",
       "      <td>UEFS</td>\n",
       "      <td>2016</td>\n",
       "      <td>Feminino</td>\n",
       "      <td>42</td>\n",
       "    </tr>\n",
       "    <tr>\n",
       "      <th>32</th>\n",
       "      <td>UESB</td>\n",
       "      <td>2016</td>\n",
       "      <td>Masculino</td>\n",
       "      <td>196</td>\n",
       "    </tr>\n",
       "    <tr>\n",
       "      <th>33</th>\n",
       "      <td>UESB</td>\n",
       "      <td>2016</td>\n",
       "      <td>Feminino</td>\n",
       "      <td>27</td>\n",
       "    </tr>\n",
       "    <tr>\n",
       "      <th>42</th>\n",
       "      <td>UESC</td>\n",
       "      <td>2016</td>\n",
       "      <td>Masculino</td>\n",
       "      <td>165</td>\n",
       "    </tr>\n",
       "    <tr>\n",
       "      <th>43</th>\n",
       "      <td>UESC</td>\n",
       "      <td>2016</td>\n",
       "      <td>Feminino</td>\n",
       "      <td>19</td>\n",
       "    </tr>\n",
       "    <tr>\n",
       "      <th>52</th>\n",
       "      <td>UFBA</td>\n",
       "      <td>2016</td>\n",
       "      <td>Masculino</td>\n",
       "      <td>855</td>\n",
       "    </tr>\n",
       "    <tr>\n",
       "      <th>53</th>\n",
       "      <td>UFBA</td>\n",
       "      <td>2016</td>\n",
       "      <td>Feminino</td>\n",
       "      <td>149</td>\n",
       "    </tr>\n",
       "    <tr>\n",
       "      <th>61</th>\n",
       "      <td>UFRB</td>\n",
       "      <td>2016</td>\n",
       "      <td>Masculino</td>\n",
       "      <td>4</td>\n",
       "    </tr>\n",
       "    <tr>\n",
       "      <th>62</th>\n",
       "      <td>UFRB</td>\n",
       "      <td>2016</td>\n",
       "      <td>Feminino</td>\n",
       "      <td>2</td>\n",
       "    </tr>\n",
       "    <tr>\n",
       "      <th>71</th>\n",
       "      <td>UNEB</td>\n",
       "      <td>2016</td>\n",
       "      <td>Masculino</td>\n",
       "      <td>227</td>\n",
       "    </tr>\n",
       "    <tr>\n",
       "      <th>72</th>\n",
       "      <td>UNEB</td>\n",
       "      <td>2016</td>\n",
       "      <td>Feminino</td>\n",
       "      <td>77</td>\n",
       "    </tr>\n",
       "    <tr>\n",
       "      <th>81</th>\n",
       "      <td>UNIVASF</td>\n",
       "      <td>2016</td>\n",
       "      <td>Masculino</td>\n",
       "      <td>203</td>\n",
       "    </tr>\n",
       "    <tr>\n",
       "      <th>82</th>\n",
       "      <td>UNIVASF</td>\n",
       "      <td>2016</td>\n",
       "      <td>Feminino</td>\n",
       "      <td>20</td>\n",
       "    </tr>\n",
       "  </tbody>\n",
       "</table>\n",
       "</div>"
      ],
      "text/plain": [
       "      SG_IES  NU_ANO_CENSO    TP_SEXO  TP_SEXO_QUANTIDADE\n",
       "2       IFBA          2016  Masculino                 697\n",
       "3       IFBA          2016   Feminino                 258\n",
       "12  IFBAIANO          2016  Masculino                 187\n",
       "13  IFBAIANO          2016   Feminino                  62\n",
       "22      UEFS          2016  Masculino                 332\n",
       "23      UEFS          2016   Feminino                  42\n",
       "32      UESB          2016  Masculino                 196\n",
       "33      UESB          2016   Feminino                  27\n",
       "42      UESC          2016  Masculino                 165\n",
       "43      UESC          2016   Feminino                  19\n",
       "52      UFBA          2016  Masculino                 855\n",
       "53      UFBA          2016   Feminino                 149\n",
       "61      UFRB          2016  Masculino                   4\n",
       "62      UFRB          2016   Feminino                   2\n",
       "71      UNEB          2016  Masculino                 227\n",
       "72      UNEB          2016   Feminino                  77\n",
       "81   UNIVASF          2016  Masculino                 203\n",
       "82   UNIVASF          2016   Feminino                  20"
      ]
     },
     "execution_count": 90,
     "metadata": {},
     "output_type": "execute_result"
    }
   ],
   "source": [
    "dataframe_temp[dataframe_temp['NU_ANO_CENSO'] == 2016]"
   ]
  },
  {
   "cell_type": "code",
   "execution_count": 88,
   "id": "982fb8c8",
   "metadata": {},
   "outputs": [
    {
     "data": {
      "text/html": [
       "<div>\n",
       "<style scoped>\n",
       "    .dataframe tbody tr th:only-of-type {\n",
       "        vertical-align: middle;\n",
       "    }\n",
       "\n",
       "    .dataframe tbody tr th {\n",
       "        vertical-align: top;\n",
       "    }\n",
       "\n",
       "    .dataframe thead th {\n",
       "        text-align: right;\n",
       "    }\n",
       "</style>\n",
       "<table border=\"1\" class=\"dataframe\">\n",
       "  <thead>\n",
       "    <tr style=\"text-align: right;\">\n",
       "      <th></th>\n",
       "      <th>SG_IES</th>\n",
       "      <th>NU_ANO_CENSO</th>\n",
       "      <th>TP_SEXO</th>\n",
       "      <th>TP_SEXO_QUANTIDADE</th>\n",
       "    </tr>\n",
       "  </thead>\n",
       "  <tbody>\n",
       "    <tr>\n",
       "      <th>0</th>\n",
       "      <td>IFBA</td>\n",
       "      <td>2015</td>\n",
       "      <td>Masculino</td>\n",
       "      <td>601</td>\n",
       "    </tr>\n",
       "    <tr>\n",
       "      <th>1</th>\n",
       "      <td>IFBA</td>\n",
       "      <td>2015</td>\n",
       "      <td>Feminino</td>\n",
       "      <td>224</td>\n",
       "    </tr>\n",
       "    <tr>\n",
       "      <th>2</th>\n",
       "      <td>IFBA</td>\n",
       "      <td>2016</td>\n",
       "      <td>Masculino</td>\n",
       "      <td>697</td>\n",
       "    </tr>\n",
       "    <tr>\n",
       "      <th>3</th>\n",
       "      <td>IFBA</td>\n",
       "      <td>2016</td>\n",
       "      <td>Feminino</td>\n",
       "      <td>258</td>\n",
       "    </tr>\n",
       "    <tr>\n",
       "      <th>4</th>\n",
       "      <td>IFBA</td>\n",
       "      <td>2017</td>\n",
       "      <td>Masculino</td>\n",
       "      <td>798</td>\n",
       "    </tr>\n",
       "    <tr>\n",
       "      <th>...</th>\n",
       "      <td>...</td>\n",
       "      <td>...</td>\n",
       "      <td>...</td>\n",
       "      <td>...</td>\n",
       "    </tr>\n",
       "    <tr>\n",
       "      <th>84</th>\n",
       "      <td>UNIVASF</td>\n",
       "      <td>2017</td>\n",
       "      <td>Feminino</td>\n",
       "      <td>24</td>\n",
       "    </tr>\n",
       "    <tr>\n",
       "      <th>85</th>\n",
       "      <td>UNIVASF</td>\n",
       "      <td>2018</td>\n",
       "      <td>Masculino</td>\n",
       "      <td>202</td>\n",
       "    </tr>\n",
       "    <tr>\n",
       "      <th>86</th>\n",
       "      <td>UNIVASF</td>\n",
       "      <td>2018</td>\n",
       "      <td>Feminino</td>\n",
       "      <td>21</td>\n",
       "    </tr>\n",
       "    <tr>\n",
       "      <th>87</th>\n",
       "      <td>UNIVASF</td>\n",
       "      <td>2019</td>\n",
       "      <td>Masculino</td>\n",
       "      <td>213</td>\n",
       "    </tr>\n",
       "    <tr>\n",
       "      <th>88</th>\n",
       "      <td>UNIVASF</td>\n",
       "      <td>2019</td>\n",
       "      <td>Feminino</td>\n",
       "      <td>19</td>\n",
       "    </tr>\n",
       "  </tbody>\n",
       "</table>\n",
       "<p>89 rows × 4 columns</p>\n",
       "</div>"
      ],
      "text/plain": [
       "     SG_IES  NU_ANO_CENSO    TP_SEXO  TP_SEXO_QUANTIDADE\n",
       "0      IFBA          2015  Masculino                 601\n",
       "1      IFBA          2015   Feminino                 224\n",
       "2      IFBA          2016  Masculino                 697\n",
       "3      IFBA          2016   Feminino                 258\n",
       "4      IFBA          2017  Masculino                 798\n",
       "..      ...           ...        ...                 ...\n",
       "84  UNIVASF          2017   Feminino                  24\n",
       "85  UNIVASF          2018  Masculino                 202\n",
       "86  UNIVASF          2018   Feminino                  21\n",
       "87  UNIVASF          2019  Masculino                 213\n",
       "88  UNIVASF          2019   Feminino                  19\n",
       "\n",
       "[89 rows x 4 columns]"
      ]
     },
     "execution_count": 88,
     "metadata": {},
     "output_type": "execute_result"
    }
   ],
   "source": [
    "dataframe_temp"
   ]
  },
  {
   "cell_type": "code",
   "execution_count": 61,
   "id": "77c6d802",
   "metadata": {},
   "outputs": [],
   "source": [
    "t = data_frame_diversidade.groupby(['SG_IES', 'NU_ANO_CENSO'])"
   ]
  },
  {
   "cell_type": "code",
   "execution_count": 62,
   "id": "8280ad46",
   "metadata": {},
   "outputs": [
    {
     "data": {
      "text/plain": [
       "<pandas.core.groupby.generic.DataFrameGroupBy object at 0x0000022A1C45E820>"
      ]
     },
     "execution_count": 62,
     "metadata": {},
     "output_type": "execute_result"
    }
   ],
   "source": [
    "t"
   ]
  },
  {
   "cell_type": "code",
   "execution_count": 63,
   "id": "bfc27117",
   "metadata": {},
   "outputs": [],
   "source": [
    "dataframe = t['TP_SEXO'].value_counts().to_frame(name = 'count').reset_index()"
   ]
  },
  {
   "cell_type": "code",
   "execution_count": 64,
   "id": "6792179b",
   "metadata": {},
   "outputs": [],
   "source": [
    "r = dataframe[dataframe['NU_ANO_CENSO'] == 2015]"
   ]
  },
  {
   "cell_type": "code",
   "execution_count": 65,
   "id": "70e406a4",
   "metadata": {},
   "outputs": [],
   "source": [
    "r['count'] = min_max_scaler(r, 'count')"
   ]
  },
  {
   "cell_type": "code",
   "execution_count": 68,
   "id": "1c492aca",
   "metadata": {
    "scrolled": true
   },
   "outputs": [],
   "source": [
    "d = r[r['SG_IES'] == 'IFBA']"
   ]
  },
  {
   "cell_type": "code",
   "execution_count": 70,
   "id": "b20efbf4",
   "metadata": {},
   "outputs": [
    {
     "data": {
      "text/plain": [
       "0.3587876938187462"
      ]
     },
     "execution_count": 70,
     "metadata": {},
     "output_type": "execute_result"
    }
   ],
   "source": [
    "d['count'].std()"
   ]
  },
  {
   "cell_type": "code",
   "execution_count": null,
   "id": "73ad7be5",
   "metadata": {},
   "outputs": [],
   "source": []
  }
 ],
 "metadata": {
  "kernelspec": {
   "display_name": "Python 3 (ipykernel)",
   "language": "python",
   "name": "python3"
  },
  "language_info": {
   "codemirror_mode": {
    "name": "ipython",
    "version": 3
   },
   "file_extension": ".py",
   "mimetype": "text/x-python",
   "name": "python",
   "nbconvert_exporter": "python",
   "pygments_lexer": "ipython3",
   "version": "3.9.13"
  }
 },
 "nbformat": 4,
 "nbformat_minor": 5
}
