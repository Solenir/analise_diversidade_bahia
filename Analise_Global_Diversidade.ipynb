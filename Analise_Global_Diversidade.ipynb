{
 "cells": [
  {
   "cell_type": "markdown",
   "id": "1736c639",
   "metadata": {},
   "source": [
    "# Análise Global de Diversidade"
   ]
  },
  {
   "cell_type": "code",
   "execution_count": 119,
   "id": "a7902320",
   "metadata": {},
   "outputs": [],
   "source": [
    "import pandas as pd\n",
    "import warnings \n",
    "warnings.filterwarnings(\"ignore\")"
   ]
  },
  {
   "cell_type": "code",
   "execution_count": 120,
   "id": "7c38ef7f",
   "metadata": {},
   "outputs": [],
   "source": [
    "ANOS = [2015, 2016, 2017, 2018, 2019]\n",
    "UNIVERSIDADES = ['IFBA', 'UFBA', 'UEFS', 'UNEB', 'IFBAIANO', 'UESB', 'UNIVASF', 'UESC']"
   ]
  },
  {
   "cell_type": "code",
   "execution_count": 121,
   "id": "e573c569",
   "metadata": {},
   "outputs": [
    {
     "data": {
      "text/html": [
       "<div>\n",
       "<style scoped>\n",
       "    .dataframe tbody tr th:only-of-type {\n",
       "        vertical-align: middle;\n",
       "    }\n",
       "\n",
       "    .dataframe tbody tr th {\n",
       "        vertical-align: top;\n",
       "    }\n",
       "\n",
       "    .dataframe thead th {\n",
       "        text-align: right;\n",
       "    }\n",
       "</style>\n",
       "<table border=\"1\" class=\"dataframe\">\n",
       "  <thead>\n",
       "    <tr style=\"text-align: right;\">\n",
       "      <th></th>\n",
       "      <th>NU_ANO_CENSO</th>\n",
       "      <th>CO_IES</th>\n",
       "      <th>TP_CATEGORIA_ADMINISTRATIVA</th>\n",
       "      <th>TP_ORGANIZACAO_ACADEMICA</th>\n",
       "      <th>CO_CURSO</th>\n",
       "      <th>CO_CURSO_POLO</th>\n",
       "      <th>TP_TURNO</th>\n",
       "      <th>TP_GRAU_ACADEMICO</th>\n",
       "      <th>TP_MODALIDADE_ENSINO</th>\n",
       "      <th>TP_NIVEL_ACADEMICO</th>\n",
       "      <th>...</th>\n",
       "      <th>CO_PAIS_DESTINO</th>\n",
       "      <th>IN_MATRICULA</th>\n",
       "      <th>IN_CONCLUINTE</th>\n",
       "      <th>IN_INGRESSO_TOTAL</th>\n",
       "      <th>IN_INGRESSO_VAGA_NOVA</th>\n",
       "      <th>IN_INGRESSO_PROCESSO_SELETIVO</th>\n",
       "      <th>NU_ANO_INGRESSO</th>\n",
       "      <th>CO_UF</th>\n",
       "      <th>NO_CURSO</th>\n",
       "      <th>SG_IES</th>\n",
       "    </tr>\n",
       "  </thead>\n",
       "  <tbody>\n",
       "    <tr>\n",
       "      <th>0</th>\n",
       "      <td>2015</td>\n",
       "      <td>578</td>\n",
       "      <td>1.0</td>\n",
       "      <td>1.0</td>\n",
       "      <td>13277.0</td>\n",
       "      <td>NaN</td>\n",
       "      <td>4.0</td>\n",
       "      <td>1.0</td>\n",
       "      <td>1.0</td>\n",
       "      <td>1.0</td>\n",
       "      <td>...</td>\n",
       "      <td>NaN</td>\n",
       "      <td>1.0</td>\n",
       "      <td>0.0</td>\n",
       "      <td>0.0</td>\n",
       "      <td>0.0</td>\n",
       "      <td>NaN</td>\n",
       "      <td>2013.0</td>\n",
       "      <td>29</td>\n",
       "      <td>CIÊNCIA DA COMPUTAÇÃO</td>\n",
       "      <td>UFBA</td>\n",
       "    </tr>\n",
       "    <tr>\n",
       "      <th>1</th>\n",
       "      <td>2015</td>\n",
       "      <td>578</td>\n",
       "      <td>1.0</td>\n",
       "      <td>1.0</td>\n",
       "      <td>13277.0</td>\n",
       "      <td>NaN</td>\n",
       "      <td>4.0</td>\n",
       "      <td>1.0</td>\n",
       "      <td>1.0</td>\n",
       "      <td>1.0</td>\n",
       "      <td>...</td>\n",
       "      <td>NaN</td>\n",
       "      <td>1.0</td>\n",
       "      <td>0.0</td>\n",
       "      <td>0.0</td>\n",
       "      <td>0.0</td>\n",
       "      <td>NaN</td>\n",
       "      <td>2013.0</td>\n",
       "      <td>29</td>\n",
       "      <td>CIÊNCIA DA COMPUTAÇÃO</td>\n",
       "      <td>UFBA</td>\n",
       "    </tr>\n",
       "    <tr>\n",
       "      <th>2</th>\n",
       "      <td>2015</td>\n",
       "      <td>578</td>\n",
       "      <td>1.0</td>\n",
       "      <td>1.0</td>\n",
       "      <td>13277.0</td>\n",
       "      <td>NaN</td>\n",
       "      <td>4.0</td>\n",
       "      <td>1.0</td>\n",
       "      <td>1.0</td>\n",
       "      <td>1.0</td>\n",
       "      <td>...</td>\n",
       "      <td>NaN</td>\n",
       "      <td>1.0</td>\n",
       "      <td>0.0</td>\n",
       "      <td>0.0</td>\n",
       "      <td>0.0</td>\n",
       "      <td>NaN</td>\n",
       "      <td>2013.0</td>\n",
       "      <td>29</td>\n",
       "      <td>CIÊNCIA DA COMPUTAÇÃO</td>\n",
       "      <td>UFBA</td>\n",
       "    </tr>\n",
       "    <tr>\n",
       "      <th>3</th>\n",
       "      <td>2015</td>\n",
       "      <td>578</td>\n",
       "      <td>1.0</td>\n",
       "      <td>1.0</td>\n",
       "      <td>13277.0</td>\n",
       "      <td>NaN</td>\n",
       "      <td>4.0</td>\n",
       "      <td>1.0</td>\n",
       "      <td>1.0</td>\n",
       "      <td>1.0</td>\n",
       "      <td>...</td>\n",
       "      <td>NaN</td>\n",
       "      <td>1.0</td>\n",
       "      <td>0.0</td>\n",
       "      <td>0.0</td>\n",
       "      <td>0.0</td>\n",
       "      <td>NaN</td>\n",
       "      <td>2013.0</td>\n",
       "      <td>29</td>\n",
       "      <td>CIÊNCIA DA COMPUTAÇÃO</td>\n",
       "      <td>UFBA</td>\n",
       "    </tr>\n",
       "    <tr>\n",
       "      <th>4</th>\n",
       "      <td>2015</td>\n",
       "      <td>578</td>\n",
       "      <td>1.0</td>\n",
       "      <td>1.0</td>\n",
       "      <td>13277.0</td>\n",
       "      <td>NaN</td>\n",
       "      <td>4.0</td>\n",
       "      <td>1.0</td>\n",
       "      <td>1.0</td>\n",
       "      <td>1.0</td>\n",
       "      <td>...</td>\n",
       "      <td>NaN</td>\n",
       "      <td>1.0</td>\n",
       "      <td>0.0</td>\n",
       "      <td>0.0</td>\n",
       "      <td>0.0</td>\n",
       "      <td>NaN</td>\n",
       "      <td>2013.0</td>\n",
       "      <td>29</td>\n",
       "      <td>CIÊNCIA DA COMPUTAÇÃO</td>\n",
       "      <td>UFBA</td>\n",
       "    </tr>\n",
       "  </tbody>\n",
       "</table>\n",
       "<p>5 rows × 108 columns</p>\n",
       "</div>"
      ],
      "text/plain": [
       "   NU_ANO_CENSO  CO_IES  TP_CATEGORIA_ADMINISTRATIVA  \\\n",
       "0          2015     578                          1.0   \n",
       "1          2015     578                          1.0   \n",
       "2          2015     578                          1.0   \n",
       "3          2015     578                          1.0   \n",
       "4          2015     578                          1.0   \n",
       "\n",
       "   TP_ORGANIZACAO_ACADEMICA  CO_CURSO  CO_CURSO_POLO  TP_TURNO  \\\n",
       "0                       1.0   13277.0            NaN       4.0   \n",
       "1                       1.0   13277.0            NaN       4.0   \n",
       "2                       1.0   13277.0            NaN       4.0   \n",
       "3                       1.0   13277.0            NaN       4.0   \n",
       "4                       1.0   13277.0            NaN       4.0   \n",
       "\n",
       "   TP_GRAU_ACADEMICO  TP_MODALIDADE_ENSINO  TP_NIVEL_ACADEMICO  ...  \\\n",
       "0                1.0                   1.0                 1.0  ...   \n",
       "1                1.0                   1.0                 1.0  ...   \n",
       "2                1.0                   1.0                 1.0  ...   \n",
       "3                1.0                   1.0                 1.0  ...   \n",
       "4                1.0                   1.0                 1.0  ...   \n",
       "\n",
       "  CO_PAIS_DESTINO IN_MATRICULA  IN_CONCLUINTE  IN_INGRESSO_TOTAL  \\\n",
       "0             NaN          1.0            0.0                0.0   \n",
       "1             NaN          1.0            0.0                0.0   \n",
       "2             NaN          1.0            0.0                0.0   \n",
       "3             NaN          1.0            0.0                0.0   \n",
       "4             NaN          1.0            0.0                0.0   \n",
       "\n",
       "   IN_INGRESSO_VAGA_NOVA  IN_INGRESSO_PROCESSO_SELETIVO  NU_ANO_INGRESSO  \\\n",
       "0                    0.0                            NaN           2013.0   \n",
       "1                    0.0                            NaN           2013.0   \n",
       "2                    0.0                            NaN           2013.0   \n",
       "3                    0.0                            NaN           2013.0   \n",
       "4                    0.0                            NaN           2013.0   \n",
       "\n",
       "   CO_UF               NO_CURSO  SG_IES  \n",
       "0     29  CIÊNCIA DA COMPUTAÇÃO    UFBA  \n",
       "1     29  CIÊNCIA DA COMPUTAÇÃO    UFBA  \n",
       "2     29  CIÊNCIA DA COMPUTAÇÃO    UFBA  \n",
       "3     29  CIÊNCIA DA COMPUTAÇÃO    UFBA  \n",
       "4     29  CIÊNCIA DA COMPUTAÇÃO    UFBA  \n",
       "\n",
       "[5 rows x 108 columns]"
      ]
     },
     "execution_count": 121,
     "metadata": {},
     "output_type": "execute_result"
    }
   ],
   "source": [
    "data_frame_diversidade = pd.read_csv('dataset/alunos_curso_2015_2019_tic_BA.csv')\n",
    "data_frame_diversidade.head()"
   ]
  },
  {
   "cell_type": "code",
   "execution_count": 122,
   "id": "6e196fb8",
   "metadata": {},
   "outputs": [],
   "source": [
    "replace_map_cor_raca = {\n",
    "    'TP_COR_RACA':{\n",
    "        0: 'Não quis declarar',  \n",
    "        1: 'Branca',\n",
    "        2: 'Preta',\n",
    "        3: 'Parda',\n",
    "        4: 'Amarela',\n",
    "        5: 'Indígena',\n",
    "        9: 'Sem informação'\n",
    "    }\n",
    "}"
   ]
  },
  {
   "cell_type": "code",
   "execution_count": 123,
   "id": "6e775dd7",
   "metadata": {},
   "outputs": [],
   "source": [
    "replace_map_sexo = {\n",
    "    'TP_SEXO':{\n",
    "        1: 'Feminino',\n",
    "        2: 'Masculino'\n",
    "    }\n",
    "}"
   ]
  },
  {
   "cell_type": "code",
   "execution_count": 124,
   "id": "f12a582d",
   "metadata": {},
   "outputs": [],
   "source": [
    "data_frame_diversidade.replace(replace_map_cor_raca, inplace=True)"
   ]
  },
  {
   "cell_type": "code",
   "execution_count": 125,
   "id": "348312f3",
   "metadata": {},
   "outputs": [],
   "source": [
    "data_frame_diversidade.replace(replace_map_sexo, inplace=True)"
   ]
  },
  {
   "cell_type": "code",
   "execution_count": 126,
   "id": "b7c0f0aa",
   "metadata": {},
   "outputs": [],
   "source": [
    "def calculo_desvio_padrao_colunas_categoricas(coluna, dataframe):\n",
    "    return round(dataframe[coluna].std(), 4)"
   ]
  },
  {
   "cell_type": "code",
   "execution_count": 127,
   "id": "56e5e729",
   "metadata": {},
   "outputs": [],
   "source": [
    "def min_max_scaler(dataframe, column_name):\n",
    "    min_param = dataframe[column_name].min()\n",
    "    max_param = dataframe[column_name].max()\n",
    "    return (dataframe[column_name] - min_param) / (max_param- min_param)\n",
    "        "
   ]
  },
  {
   "cell_type": "code",
   "execution_count": 128,
   "id": "1057fdd0",
   "metadata": {},
   "outputs": [],
   "source": [
    "def calcula_diversidade_global(dataframe_execucao, coluna_principal, coluna_quantidade):\n",
    "    \n",
    "    std_geral = {'IFBA': [], 'UFBA': [], 'UEFS': [], 'UNEB': [], 'IFBAIANO': [], 'UESB': [], 'UNIVASF': [], 'UESC': []}\n",
    "    dataframe_temp = dataframe_execucao.groupby(['SG_IES', 'NU_ANO_CENSO'])\n",
    "    dataframe_temp = dataframe_temp[coluna_principal].value_counts().to_frame(name = coluna_quantidade).reset_index()\n",
    "    for ano in ANOS:\n",
    "        current_dataframe = dataframe_temp[dataframe_temp['NU_ANO_CENSO'] == ano]\n",
    "        current_dataframe[coluna_quantidade] = min_max_scaler(current_dataframe, coluna_quantidade)\n",
    "        for universidade in UNIVERSIDADES:        \n",
    "            current_dataframe_temp = current_dataframe[current_dataframe['SG_IES'] == universidade] \n",
    "            std_result = calculo_desvio_padrao_colunas_categoricas(coluna_quantidade, current_dataframe_temp)    \n",
    "            std_geral[universidade].append(std_result)\n",
    "    return std_geral"
   ]
  },
  {
   "cell_type": "code",
   "execution_count": null,
   "id": "a64bf91f",
   "metadata": {},
   "outputs": [],
   "source": []
  },
  {
   "cell_type": "markdown",
   "id": "55fd329b",
   "metadata": {},
   "source": [
    "## Análise da dimensão Gênero"
   ]
  },
  {
   "cell_type": "code",
   "execution_count": 129,
   "id": "aa85be88",
   "metadata": {},
   "outputs": [],
   "source": [
    "std_genero = calcula_diversidade_global(data_frame_diversidade, 'TP_SEXO', 'TP_SEXO_QUANTIDADE' )"
   ]
  },
  {
   "cell_type": "markdown",
   "id": "8403e6e0",
   "metadata": {},
   "source": [
    "## Análise da dimensão Cor e Raça\n"
   ]
  },
  {
   "cell_type": "code",
   "execution_count": 98,
   "id": "af334cf0",
   "metadata": {},
   "outputs": [
    {
     "data": {
      "text/plain": [
       "Não quis declarar    8399\n",
       "Parda                5518\n",
       "Preta                2654\n",
       "Branca               1615\n",
       "Amarela               107\n",
       "Indígena               66\n",
       "Sem informação         55\n",
       "Name: TP_COR_RACA, dtype: int64"
      ]
     },
     "execution_count": 98,
     "metadata": {},
     "output_type": "execute_result"
    }
   ],
   "source": [
    "data_frame_diversidade['TP_COR_RACA'].value_counts()"
   ]
  },
  {
   "cell_type": "code",
   "execution_count": 133,
   "id": "1dcb9db9",
   "metadata": {},
   "outputs": [
    {
     "data": {
      "text/plain": [
       "Parda       5518\n",
       "Preta       2654\n",
       "Branca      1615\n",
       "Amarela      107\n",
       "Indígena      66\n",
       "Name: TP_COR_RACA, dtype: int64"
      ]
     },
     "execution_count": 133,
     "metadata": {},
     "output_type": "execute_result"
    }
   ],
   "source": [
    "dataframe_temp = data_frame_diversidade[(data_frame_diversidade['TP_COR_RACA'] != 'Não quis declarar') & (data_frame_diversidade['TP_COR_RACA'] != 'Sem informação')]\n",
    "dataframe_temp['TP_COR_RACA'].value_counts()"
   ]
  },
  {
   "cell_type": "code",
   "execution_count": 134,
   "id": "f7b13f8b",
   "metadata": {},
   "outputs": [],
   "source": [
    "std_cor_raca = calcula_diversidade_global(data_frame_diversidade, 'TP_COR_RACA', 'TP_COR_RACA_QUANTIDADE' )"
   ]
  },
  {
   "cell_type": "code",
   "execution_count": null,
   "id": "bbe290cc",
   "metadata": {},
   "outputs": [],
   "source": []
  }
 ],
 "metadata": {
  "kernelspec": {
   "display_name": "Python 3 (ipykernel)",
   "language": "python",
   "name": "python3"
  },
  "language_info": {
   "codemirror_mode": {
    "name": "ipython",
    "version": 3
   },
   "file_extension": ".py",
   "mimetype": "text/x-python",
   "name": "python",
   "nbconvert_exporter": "python",
   "pygments_lexer": "ipython3",
   "version": "3.9.13"
  }
 },
 "nbformat": 4,
 "nbformat_minor": 5
}
