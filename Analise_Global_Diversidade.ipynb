{
 "cells": [
  {
   "cell_type": "markdown",
   "id": "1736c639",
   "metadata": {},
   "source": [
    "# Análise Global de Diversidade"
   ]
  },
  {
   "cell_type": "code",
   "execution_count": 173,
   "id": "a7902320",
   "metadata": {},
   "outputs": [],
   "source": [
    "import pandas as pd\n",
    "import numpy as np\n",
    "import warnings \n",
    "warnings.filterwarnings(\"ignore\")"
   ]
  },
  {
   "cell_type": "code",
   "execution_count": 120,
   "id": "300b19bd",
   "metadata": {},
   "outputs": [],
   "source": [
    "ANOS = [2015, 2016, 2017, 2018, 2019]\n",
    "UNIVERSIDADES = ['IFBA', 'UFBA', 'UEFS', 'UNEB', 'IFBAIANO', 'UESB', 'UNIVASF', 'UESC']"
   ]
  },
  {
   "cell_type": "code",
   "execution_count": 121,
   "id": "e573c569",
   "metadata": {},
   "outputs": [
    {
     "data": {
      "text/html": [
       "<div>\n",
       "<style scoped>\n",
       "    .dataframe tbody tr th:only-of-type {\n",
       "        vertical-align: middle;\n",
       "    }\n",
       "\n",
       "    .dataframe tbody tr th {\n",
       "        vertical-align: top;\n",
       "    }\n",
       "\n",
       "    .dataframe thead th {\n",
       "        text-align: right;\n",
       "    }\n",
       "</style>\n",
       "<table border=\"1\" class=\"dataframe\">\n",
       "  <thead>\n",
       "    <tr style=\"text-align: right;\">\n",
       "      <th></th>\n",
       "      <th>NU_ANO_CENSO</th>\n",
       "      <th>CO_IES</th>\n",
       "      <th>TP_CATEGORIA_ADMINISTRATIVA</th>\n",
       "      <th>TP_ORGANIZACAO_ACADEMICA</th>\n",
       "      <th>CO_CURSO</th>\n",
       "      <th>CO_CURSO_POLO</th>\n",
       "      <th>TP_TURNO</th>\n",
       "      <th>TP_GRAU_ACADEMICO</th>\n",
       "      <th>TP_MODALIDADE_ENSINO</th>\n",
       "      <th>TP_NIVEL_ACADEMICO</th>\n",
       "      <th>...</th>\n",
       "      <th>CO_PAIS_DESTINO</th>\n",
       "      <th>IN_MATRICULA</th>\n",
       "      <th>IN_CONCLUINTE</th>\n",
       "      <th>IN_INGRESSO_TOTAL</th>\n",
       "      <th>IN_INGRESSO_VAGA_NOVA</th>\n",
       "      <th>IN_INGRESSO_PROCESSO_SELETIVO</th>\n",
       "      <th>NU_ANO_INGRESSO</th>\n",
       "      <th>CO_UF</th>\n",
       "      <th>NO_CURSO</th>\n",
       "      <th>SG_IES</th>\n",
       "    </tr>\n",
       "  </thead>\n",
       "  <tbody>\n",
       "    <tr>\n",
       "      <th>0</th>\n",
       "      <td>2015</td>\n",
       "      <td>578</td>\n",
       "      <td>1.0</td>\n",
       "      <td>1.0</td>\n",
       "      <td>13277.0</td>\n",
       "      <td>NaN</td>\n",
       "      <td>4.0</td>\n",
       "      <td>1.0</td>\n",
       "      <td>1.0</td>\n",
       "      <td>1.0</td>\n",
       "      <td>...</td>\n",
       "      <td>NaN</td>\n",
       "      <td>1.0</td>\n",
       "      <td>0.0</td>\n",
       "      <td>0.0</td>\n",
       "      <td>0.0</td>\n",
       "      <td>NaN</td>\n",
       "      <td>2013.0</td>\n",
       "      <td>29</td>\n",
       "      <td>CIÊNCIA DA COMPUTAÇÃO</td>\n",
       "      <td>UFBA</td>\n",
       "    </tr>\n",
       "    <tr>\n",
       "      <th>1</th>\n",
       "      <td>2015</td>\n",
       "      <td>578</td>\n",
       "      <td>1.0</td>\n",
       "      <td>1.0</td>\n",
       "      <td>13277.0</td>\n",
       "      <td>NaN</td>\n",
       "      <td>4.0</td>\n",
       "      <td>1.0</td>\n",
       "      <td>1.0</td>\n",
       "      <td>1.0</td>\n",
       "      <td>...</td>\n",
       "      <td>NaN</td>\n",
       "      <td>1.0</td>\n",
       "      <td>0.0</td>\n",
       "      <td>0.0</td>\n",
       "      <td>0.0</td>\n",
       "      <td>NaN</td>\n",
       "      <td>2013.0</td>\n",
       "      <td>29</td>\n",
       "      <td>CIÊNCIA DA COMPUTAÇÃO</td>\n",
       "      <td>UFBA</td>\n",
       "    </tr>\n",
       "    <tr>\n",
       "      <th>2</th>\n",
       "      <td>2015</td>\n",
       "      <td>578</td>\n",
       "      <td>1.0</td>\n",
       "      <td>1.0</td>\n",
       "      <td>13277.0</td>\n",
       "      <td>NaN</td>\n",
       "      <td>4.0</td>\n",
       "      <td>1.0</td>\n",
       "      <td>1.0</td>\n",
       "      <td>1.0</td>\n",
       "      <td>...</td>\n",
       "      <td>NaN</td>\n",
       "      <td>1.0</td>\n",
       "      <td>0.0</td>\n",
       "      <td>0.0</td>\n",
       "      <td>0.0</td>\n",
       "      <td>NaN</td>\n",
       "      <td>2013.0</td>\n",
       "      <td>29</td>\n",
       "      <td>CIÊNCIA DA COMPUTAÇÃO</td>\n",
       "      <td>UFBA</td>\n",
       "    </tr>\n",
       "    <tr>\n",
       "      <th>3</th>\n",
       "      <td>2015</td>\n",
       "      <td>578</td>\n",
       "      <td>1.0</td>\n",
       "      <td>1.0</td>\n",
       "      <td>13277.0</td>\n",
       "      <td>NaN</td>\n",
       "      <td>4.0</td>\n",
       "      <td>1.0</td>\n",
       "      <td>1.0</td>\n",
       "      <td>1.0</td>\n",
       "      <td>...</td>\n",
       "      <td>NaN</td>\n",
       "      <td>1.0</td>\n",
       "      <td>0.0</td>\n",
       "      <td>0.0</td>\n",
       "      <td>0.0</td>\n",
       "      <td>NaN</td>\n",
       "      <td>2013.0</td>\n",
       "      <td>29</td>\n",
       "      <td>CIÊNCIA DA COMPUTAÇÃO</td>\n",
       "      <td>UFBA</td>\n",
       "    </tr>\n",
       "    <tr>\n",
       "      <th>4</th>\n",
       "      <td>2015</td>\n",
       "      <td>578</td>\n",
       "      <td>1.0</td>\n",
       "      <td>1.0</td>\n",
       "      <td>13277.0</td>\n",
       "      <td>NaN</td>\n",
       "      <td>4.0</td>\n",
       "      <td>1.0</td>\n",
       "      <td>1.0</td>\n",
       "      <td>1.0</td>\n",
       "      <td>...</td>\n",
       "      <td>NaN</td>\n",
       "      <td>1.0</td>\n",
       "      <td>0.0</td>\n",
       "      <td>0.0</td>\n",
       "      <td>0.0</td>\n",
       "      <td>NaN</td>\n",
       "      <td>2013.0</td>\n",
       "      <td>29</td>\n",
       "      <td>CIÊNCIA DA COMPUTAÇÃO</td>\n",
       "      <td>UFBA</td>\n",
       "    </tr>\n",
       "  </tbody>\n",
       "</table>\n",
       "<p>5 rows × 108 columns</p>\n",
       "</div>"
      ],
      "text/plain": [
       "   NU_ANO_CENSO  CO_IES  TP_CATEGORIA_ADMINISTRATIVA  \\\n",
       "0          2015     578                          1.0   \n",
       "1          2015     578                          1.0   \n",
       "2          2015     578                          1.0   \n",
       "3          2015     578                          1.0   \n",
       "4          2015     578                          1.0   \n",
       "\n",
       "   TP_ORGANIZACAO_ACADEMICA  CO_CURSO  CO_CURSO_POLO  TP_TURNO  \\\n",
       "0                       1.0   13277.0            NaN       4.0   \n",
       "1                       1.0   13277.0            NaN       4.0   \n",
       "2                       1.0   13277.0            NaN       4.0   \n",
       "3                       1.0   13277.0            NaN       4.0   \n",
       "4                       1.0   13277.0            NaN       4.0   \n",
       "\n",
       "   TP_GRAU_ACADEMICO  TP_MODALIDADE_ENSINO  TP_NIVEL_ACADEMICO  ...  \\\n",
       "0                1.0                   1.0                 1.0  ...   \n",
       "1                1.0                   1.0                 1.0  ...   \n",
       "2                1.0                   1.0                 1.0  ...   \n",
       "3                1.0                   1.0                 1.0  ...   \n",
       "4                1.0                   1.0                 1.0  ...   \n",
       "\n",
       "  CO_PAIS_DESTINO IN_MATRICULA  IN_CONCLUINTE  IN_INGRESSO_TOTAL  \\\n",
       "0             NaN          1.0            0.0                0.0   \n",
       "1             NaN          1.0            0.0                0.0   \n",
       "2             NaN          1.0            0.0                0.0   \n",
       "3             NaN          1.0            0.0                0.0   \n",
       "4             NaN          1.0            0.0                0.0   \n",
       "\n",
       "   IN_INGRESSO_VAGA_NOVA  IN_INGRESSO_PROCESSO_SELETIVO  NU_ANO_INGRESSO  \\\n",
       "0                    0.0                            NaN           2013.0   \n",
       "1                    0.0                            NaN           2013.0   \n",
       "2                    0.0                            NaN           2013.0   \n",
       "3                    0.0                            NaN           2013.0   \n",
       "4                    0.0                            NaN           2013.0   \n",
       "\n",
       "   CO_UF               NO_CURSO  SG_IES  \n",
       "0     29  CIÊNCIA DA COMPUTAÇÃO    UFBA  \n",
       "1     29  CIÊNCIA DA COMPUTAÇÃO    UFBA  \n",
       "2     29  CIÊNCIA DA COMPUTAÇÃO    UFBA  \n",
       "3     29  CIÊNCIA DA COMPUTAÇÃO    UFBA  \n",
       "4     29  CIÊNCIA DA COMPUTAÇÃO    UFBA  \n",
       "\n",
       "[5 rows x 108 columns]"
      ]
     },
     "execution_count": 121,
     "metadata": {},
     "output_type": "execute_result"
    }
   ],
   "source": [
    "data_frame_diversidade = pd.read_csv('dataset/alunos_curso_2015_2019_tic_BA.csv')\n",
    "data_frame_diversidade.head()"
   ]
  },
  {
   "cell_type": "code",
   "execution_count": 122,
   "id": "6e196fb8",
   "metadata": {},
   "outputs": [],
   "source": [
    "replace_map_cor_raca = {\n",
    "    'TP_COR_RACA':{\n",
    "        0: 'Não quis declarar',  \n",
    "        1: 'Branca',\n",
    "        2: 'Preta',\n",
    "        3: 'Parda',\n",
    "        4: 'Amarela',\n",
    "        5: 'Indígena',\n",
    "        9: 'Sem informação'\n",
    "    }\n",
    "}"
   ]
  },
  {
   "cell_type": "code",
   "execution_count": 123,
   "id": "6e775dd7",
   "metadata": {},
   "outputs": [],
   "source": [
    "replace_map_sexo = {\n",
    "    'TP_SEXO':{\n",
    "        1: 'Feminino',\n",
    "        2: 'Masculino'\n",
    "    }\n",
    "}"
   ]
  },
  {
   "cell_type": "code",
   "execution_count": 186,
   "id": "caf5a8a2",
   "metadata": {},
   "outputs": [],
   "source": [
    "replace_map_deficiencia = {\n",
    "    'IN_DEFICIENCIA':{\n",
    "        0.0: 'Normal',  \n",
    "        1.0: 'Deficiente',\n",
    "        9.0: 'Sem Deficiência'\n",
    "    }\n",
    "}"
   ]
  },
  {
   "cell_type": "code",
   "execution_count": 184,
   "id": "f12a582d",
   "metadata": {},
   "outputs": [],
   "source": [
    "data_frame_diversidade.replace(replace_map_cor_raca, inplace=True)"
   ]
  },
  {
   "cell_type": "code",
   "execution_count": 185,
   "id": "348312f3",
   "metadata": {},
   "outputs": [],
   "source": [
    "data_frame_diversidade.replace(replace_map_sexo, inplace=True)"
   ]
  },
  {
   "cell_type": "code",
   "execution_count": 187,
   "id": "43938b81",
   "metadata": {},
   "outputs": [],
   "source": [
    "data_frame_diversidade.replace(replace_map_deficiencia, inplace=True)"
   ]
  },
  {
   "cell_type": "code",
   "execution_count": 222,
   "id": "b7c0f0aa",
   "metadata": {},
   "outputs": [],
   "source": [
    "def calculo_desvio_padrao(coluna, dataframe):\n",
    "    return round(dataframe[coluna].std(), 4)"
   ]
  },
  {
   "cell_type": "code",
   "execution_count": 127,
   "id": "a8ab4417",
   "metadata": {},
   "outputs": [],
   "source": [
    "def min_max_scaler(dataframe, column_name):\n",
    "    min_param = dataframe[column_name].min()\n",
    "    max_param = dataframe[column_name].max()\n",
    "    return (dataframe[column_name] - min_param) / (max_param- min_param)\n",
    "        "
   ]
  },
  {
   "cell_type": "code",
   "execution_count": 147,
   "id": "80c1b40a",
   "metadata": {},
   "outputs": [],
   "source": [
    "def calcula_diversidade_global(dataframe_execucao, coluna_principal, coluna_quantidade, is_reserva = False):\n",
    "    \n",
    "    std_geral = {'IFBA': [], 'UFBA': [], 'UEFS': [], 'UNEB': [], 'IFBAIANO': [], 'UESB': [], 'UNIVASF': [], 'UESC': []}\n",
    "    if (is_reserva):\n",
    "        dataframe_temp = dataframe_execucao\n",
    "    else:\n",
    "        dataframe_temp = dataframe_execucao.groupby(['SG_IES', 'NU_ANO_CENSO'])\n",
    "        dataframe_temp = dataframe_temp[coluna_principal].value_counts().to_frame(name = coluna_quantidade).reset_index()\n",
    "    for ano in ANOS:\n",
    "        current_dataframe = dataframe_temp[dataframe_temp['NU_ANO_CENSO'] == ano]\n",
    "        current_dataframe[coluna_quantidade] = min_max_scaler(current_dataframe, coluna_quantidade)\n",
    "        for universidade in UNIVERSIDADES:        \n",
    "            current_dataframe_temp = current_dataframe[current_dataframe['SG_IES'] == universidade] \n",
    "            std_result = calculo_desvio_padrao(coluna_quantidade, current_dataframe_temp)    \n",
    "            std_geral[universidade].append(std_result)\n",
    "    return std_geral"
   ]
  },
  {
   "cell_type": "code",
   "execution_count": 138,
   "id": "a64bf91f",
   "metadata": {},
   "outputs": [],
   "source": [
    "def construcao_data_frame_reserva(df, colunas):\n",
    "    universidades, anos, categoria, valor, qt_abs = [], [], [], [], []\n",
    "    for uni in df.SG_IES.unique():\n",
    "        for ano in range(2015, 2020):\n",
    "            df_uni = df.loc[(df.SG_IES == uni) & (df.NU_ANO_CENSO == ano)]\n",
    "            for i in range(len(colunas)):\n",
    "                anos.append(ano)\n",
    "                universidades.append(uni)\n",
    "                df_uni_cat = df_uni.loc[df_uni[colunas[i]] == 1]\n",
    "                valor.append(colunas[i])         \n",
    "                valor_abs = df_uni_cat.groupby([colunas[i]]).size().values.tolist()\n",
    "                if len(valor_abs) > 0:\n",
    "                    qt_abs.append(sum(valor_abs))\n",
    "                    total = df_uni.groupby(['NU_ANO_CENSO']).size().values.tolist()                \n",
    "                else:\n",
    "                    qt_abs.append(0)\n",
    "                  \n",
    "\n",
    "    return pd.DataFrame({'SG_IES':universidades, 'NU_ANO_CENSO':anos, 'RESERVA': valor,\n",
    "                                     'RESERVA_QUANTIDADE':qt_abs}) \n"
   ]
  },
  {
   "cell_type": "code",
   "execution_count": null,
   "id": "5fe3f444",
   "metadata": {},
   "outputs": [],
   "source": []
  },
  {
   "cell_type": "markdown",
   "id": "55fd329b",
   "metadata": {},
   "source": [
    "## Análise da dimensão Gênero"
   ]
  },
  {
   "cell_type": "code",
   "execution_count": 211,
   "id": "aa85be88",
   "metadata": {},
   "outputs": [
    {
     "name": "stdout",
     "output_type": "stream",
     "text": [
      "\n",
      "\n",
      "Diversidade de Gênero\n"
     ]
    },
    {
     "data": {
      "text/html": [
       "<div>\n",
       "<style scoped>\n",
       "    .dataframe tbody tr th:only-of-type {\n",
       "        vertical-align: middle;\n",
       "    }\n",
       "\n",
       "    .dataframe tbody tr th {\n",
       "        vertical-align: top;\n",
       "    }\n",
       "\n",
       "    .dataframe thead th {\n",
       "        text-align: right;\n",
       "    }\n",
       "</style>\n",
       "<table border=\"1\" class=\"dataframe\">\n",
       "  <thead>\n",
       "    <tr style=\"text-align: right;\">\n",
       "      <th></th>\n",
       "      <th>IFBA</th>\n",
       "      <th>UFBA</th>\n",
       "      <th>UEFS</th>\n",
       "      <th>UNEB</th>\n",
       "      <th>IFBAIANO</th>\n",
       "      <th>UESB</th>\n",
       "      <th>UNIVASF</th>\n",
       "      <th>UESC</th>\n",
       "    </tr>\n",
       "  </thead>\n",
       "  <tbody>\n",
       "    <tr>\n",
       "      <th>2015</th>\n",
       "      <td>0.3588</td>\n",
       "      <td>0.5920</td>\n",
       "      <td>0.2760</td>\n",
       "      <td>0.1094</td>\n",
       "      <td>0.1009</td>\n",
       "      <td>0.1475</td>\n",
       "      <td>0.1675</td>\n",
       "      <td>0.1485</td>\n",
       "    </tr>\n",
       "    <tr>\n",
       "      <th>2016</th>\n",
       "      <td>0.3639</td>\n",
       "      <td>0.5852</td>\n",
       "      <td>0.2404</td>\n",
       "      <td>0.1243</td>\n",
       "      <td>0.1036</td>\n",
       "      <td>0.1401</td>\n",
       "      <td>0.1517</td>\n",
       "      <td>0.1210</td>\n",
       "    </tr>\n",
       "    <tr>\n",
       "      <th>2017</th>\n",
       "      <td>0.4328</td>\n",
       "      <td>0.5922</td>\n",
       "      <td>0.2500</td>\n",
       "      <td>0.1448</td>\n",
       "      <td>0.0947</td>\n",
       "      <td>0.1311</td>\n",
       "      <td>0.1311</td>\n",
       "      <td>0.1238</td>\n",
       "    </tr>\n",
       "    <tr>\n",
       "      <th>2018</th>\n",
       "      <td>0.4521</td>\n",
       "      <td>0.5989</td>\n",
       "      <td>0.2372</td>\n",
       "      <td>0.1371</td>\n",
       "      <td>0.0934</td>\n",
       "      <td>0.1282</td>\n",
       "      <td>0.1342</td>\n",
       "      <td>0.1127</td>\n",
       "    </tr>\n",
       "    <tr>\n",
       "      <th>2019</th>\n",
       "      <td>0.4950</td>\n",
       "      <td>0.6094</td>\n",
       "      <td>0.2121</td>\n",
       "      <td>0.1070</td>\n",
       "      <td>0.1090</td>\n",
       "      <td>0.1204</td>\n",
       "      <td>0.1298</td>\n",
       "      <td>0.0916</td>\n",
       "    </tr>\n",
       "  </tbody>\n",
       "</table>\n",
       "</div>"
      ],
      "text/plain": [
       "        IFBA    UFBA    UEFS    UNEB  IFBAIANO    UESB  UNIVASF    UESC\n",
       "2015  0.3588  0.5920  0.2760  0.1094    0.1009  0.1475   0.1675  0.1485\n",
       "2016  0.3639  0.5852  0.2404  0.1243    0.1036  0.1401   0.1517  0.1210\n",
       "2017  0.4328  0.5922  0.2500  0.1448    0.0947  0.1311   0.1311  0.1238\n",
       "2018  0.4521  0.5989  0.2372  0.1371    0.0934  0.1282   0.1342  0.1127\n",
       "2019  0.4950  0.6094  0.2121  0.1070    0.1090  0.1204   0.1298  0.0916"
      ]
     },
     "metadata": {},
     "output_type": "display_data"
    }
   ],
   "source": [
    "print('\\n\\nDiversidade de Gênero')\n",
    "std_genero = calcula_diversidade_global(data_frame_diversidade, 'TP_SEXO', 'TP_SEXO_QUANTIDADE' )\n",
    "display(pd.DataFrame.from_dict(std_genero).set_index([pd.Index([2015, 2016, 2017, 2018, 2019])]))"
   ]
  },
  {
   "cell_type": "markdown",
   "id": "d0d44181",
   "metadata": {},
   "source": [
    "## Análise da dimensão Cor e Raça\n"
   ]
  },
  {
   "cell_type": "code",
   "execution_count": 98,
   "id": "876cd063",
   "metadata": {},
   "outputs": [
    {
     "data": {
      "text/plain": [
       "Não quis declarar    8399\n",
       "Parda                5518\n",
       "Preta                2654\n",
       "Branca               1615\n",
       "Amarela               107\n",
       "Indígena               66\n",
       "Sem informação         55\n",
       "Name: TP_COR_RACA, dtype: int64"
      ]
     },
     "execution_count": 98,
     "metadata": {},
     "output_type": "execute_result"
    }
   ],
   "source": [
    "data_frame_diversidade['TP_COR_RACA'].value_counts()"
   ]
  },
  {
   "cell_type": "code",
   "execution_count": 133,
   "id": "630830b8",
   "metadata": {},
   "outputs": [
    {
     "data": {
      "text/plain": [
       "Parda       5518\n",
       "Preta       2654\n",
       "Branca      1615\n",
       "Amarela      107\n",
       "Indígena      66\n",
       "Name: TP_COR_RACA, dtype: int64"
      ]
     },
     "execution_count": 133,
     "metadata": {},
     "output_type": "execute_result"
    }
   ],
   "source": [
    "dataframe_temp = data_frame_diversidade[(data_frame_diversidade['TP_COR_RACA'] != 'Não quis declarar') & (data_frame_diversidade['TP_COR_RACA'] != 'Sem informação')]\n",
    "dataframe_temp['TP_COR_RACA'].value_counts()"
   ]
  },
  {
   "cell_type": "code",
   "execution_count": 134,
   "id": "9c48b01c",
   "metadata": {},
   "outputs": [],
   "source": [
    "std_cor_raca = calcula_diversidade_global(data_frame_diversidade, 'TP_COR_RACA', 'TP_COR_RACA_QUANTIDADE' )"
   ]
  },
  {
   "cell_type": "code",
   "execution_count": 212,
   "id": "ee5faa05",
   "metadata": {},
   "outputs": [
    {
     "name": "stdout",
     "output_type": "stream",
     "text": [
      "\n",
      "\n",
      "Diversidade de Cor e Raça\n"
     ]
    },
    {
     "data": {
      "text/html": [
       "<div>\n",
       "<style scoped>\n",
       "    .dataframe tbody tr th:only-of-type {\n",
       "        vertical-align: middle;\n",
       "    }\n",
       "\n",
       "    .dataframe tbody tr th {\n",
       "        vertical-align: top;\n",
       "    }\n",
       "\n",
       "    .dataframe thead th {\n",
       "        text-align: right;\n",
       "    }\n",
       "</style>\n",
       "<table border=\"1\" class=\"dataframe\">\n",
       "  <thead>\n",
       "    <tr style=\"text-align: right;\">\n",
       "      <th></th>\n",
       "      <th>IFBA</th>\n",
       "      <th>UFBA</th>\n",
       "      <th>UEFS</th>\n",
       "      <th>UNEB</th>\n",
       "      <th>IFBAIANO</th>\n",
       "      <th>UESB</th>\n",
       "      <th>UNIVASF</th>\n",
       "      <th>UESC</th>\n",
       "    </tr>\n",
       "  </thead>\n",
       "  <tbody>\n",
       "    <tr>\n",
       "      <th>2015</th>\n",
       "      <td>0.3991</td>\n",
       "      <td>0.4176</td>\n",
       "      <td>0.3107</td>\n",
       "      <td>0.0522</td>\n",
       "      <td>0.0550</td>\n",
       "      <td>0.0730</td>\n",
       "      <td>0.0661</td>\n",
       "      <td>0.1489</td>\n",
       "    </tr>\n",
       "    <tr>\n",
       "      <th>2016</th>\n",
       "      <td>0.3818</td>\n",
       "      <td>0.3804</td>\n",
       "      <td>0.2773</td>\n",
       "      <td>0.0750</td>\n",
       "      <td>0.0622</td>\n",
       "      <td>0.0537</td>\n",
       "      <td>0.0581</td>\n",
       "      <td>0.1202</td>\n",
       "    </tr>\n",
       "    <tr>\n",
       "      <th>2017</th>\n",
       "      <td>0.3891</td>\n",
       "      <td>0.4076</td>\n",
       "      <td>0.3134</td>\n",
       "      <td>0.1003</td>\n",
       "      <td>0.0701</td>\n",
       "      <td>0.0542</td>\n",
       "      <td>0.0725</td>\n",
       "      <td>0.1088</td>\n",
       "    </tr>\n",
       "    <tr>\n",
       "      <th>2018</th>\n",
       "      <td>0.3854</td>\n",
       "      <td>0.4276</td>\n",
       "      <td>0.3063</td>\n",
       "      <td>0.1028</td>\n",
       "      <td>0.0860</td>\n",
       "      <td>0.0651</td>\n",
       "      <td>0.0850</td>\n",
       "      <td>0.0751</td>\n",
       "    </tr>\n",
       "    <tr>\n",
       "      <th>2019</th>\n",
       "      <td>0.3784</td>\n",
       "      <td>0.4251</td>\n",
       "      <td>0.2620</td>\n",
       "      <td>0.0771</td>\n",
       "      <td>0.1126</td>\n",
       "      <td>0.0760</td>\n",
       "      <td>0.0938</td>\n",
       "      <td>0.0485</td>\n",
       "    </tr>\n",
       "  </tbody>\n",
       "</table>\n",
       "</div>"
      ],
      "text/plain": [
       "        IFBA    UFBA    UEFS    UNEB  IFBAIANO    UESB  UNIVASF    UESC\n",
       "2015  0.3991  0.4176  0.3107  0.0522    0.0550  0.0730   0.0661  0.1489\n",
       "2016  0.3818  0.3804  0.2773  0.0750    0.0622  0.0537   0.0581  0.1202\n",
       "2017  0.3891  0.4076  0.3134  0.1003    0.0701  0.0542   0.0725  0.1088\n",
       "2018  0.3854  0.4276  0.3063  0.1028    0.0860  0.0651   0.0850  0.0751\n",
       "2019  0.3784  0.4251  0.2620  0.0771    0.1126  0.0760   0.0938  0.0485"
      ]
     },
     "metadata": {},
     "output_type": "display_data"
    }
   ],
   "source": [
    "print('\\n\\nDiversidade de Cor e Raça')\n",
    "display(pd.DataFrame.from_dict(std_cor_raca).set_index([pd.Index([2015, 2016, 2017, 2018, 2019])]))"
   ]
  },
  {
   "cell_type": "markdown",
   "id": "568625a1",
   "metadata": {},
   "source": [
    "## Análise da dimensão Reserva de Vaga\n"
   ]
  },
  {
   "cell_type": "code",
   "execution_count": 217,
   "id": "c63be250",
   "metadata": {},
   "outputs": [],
   "source": [
    "colunas_reserva = ['IN_RESERVA_ETNICO', 'IN_RESERVA_DEFICIENCIA', \n",
    "  'IN_RESERVA_ENSINO_PUBLICO', 'IN_RESERVA_RENDA_FAMILIAR',\n",
    "  'IN_RESERVA_OUTRA']\n",
    "df_reserva_vagas = construcao_data_frame_reserva(data_frame_diversidade, colunas_reserva)\n"
   ]
  },
  {
   "cell_type": "code",
   "execution_count": 218,
   "id": "af9c08b8",
   "metadata": {},
   "outputs": [],
   "source": [
    "std_reserva = calcula_diversidade_global(df_reserva_vagas, 'RESERVA', 'RESERVA_QUANTIDADE', True)"
   ]
  },
  {
   "cell_type": "code",
   "execution_count": 220,
   "id": "83e0944b",
   "metadata": {},
   "outputs": [
    {
     "name": "stdout",
     "output_type": "stream",
     "text": [
      "\n",
      "\n",
      "Diversidade de Reserva de Vaga\n"
     ]
    },
    {
     "data": {
      "text/html": [
       "<div>\n",
       "<style scoped>\n",
       "    .dataframe tbody tr th:only-of-type {\n",
       "        vertical-align: middle;\n",
       "    }\n",
       "\n",
       "    .dataframe tbody tr th {\n",
       "        vertical-align: top;\n",
       "    }\n",
       "\n",
       "    .dataframe thead th {\n",
       "        text-align: right;\n",
       "    }\n",
       "</style>\n",
       "<table border=\"1\" class=\"dataframe\">\n",
       "  <thead>\n",
       "    <tr style=\"text-align: right;\">\n",
       "      <th></th>\n",
       "      <th>IFBA</th>\n",
       "      <th>UFBA</th>\n",
       "      <th>UEFS</th>\n",
       "      <th>UNEB</th>\n",
       "      <th>IFBAIANO</th>\n",
       "      <th>UESB</th>\n",
       "      <th>UNIVASF</th>\n",
       "      <th>UESC</th>\n",
       "    </tr>\n",
       "  </thead>\n",
       "  <tbody>\n",
       "    <tr>\n",
       "      <th>2015</th>\n",
       "      <td>0.4310</td>\n",
       "      <td>0.3471</td>\n",
       "      <td>0.3304</td>\n",
       "      <td>0.1562</td>\n",
       "      <td>0.0732</td>\n",
       "      <td>0.0</td>\n",
       "      <td>0.0325</td>\n",
       "      <td>0.0401</td>\n",
       "    </tr>\n",
       "    <tr>\n",
       "      <th>2016</th>\n",
       "      <td>0.4358</td>\n",
       "      <td>0.3207</td>\n",
       "      <td>0.2819</td>\n",
       "      <td>0.0431</td>\n",
       "      <td>0.0789</td>\n",
       "      <td>0.0</td>\n",
       "      <td>0.0588</td>\n",
       "      <td>0.0261</td>\n",
       "    </tr>\n",
       "    <tr>\n",
       "      <th>2017</th>\n",
       "      <td>0.3861</td>\n",
       "      <td>0.4970</td>\n",
       "      <td>0.3079</td>\n",
       "      <td>0.0861</td>\n",
       "      <td>0.0763</td>\n",
       "      <td>0.0</td>\n",
       "      <td>0.0761</td>\n",
       "      <td>0.0000</td>\n",
       "    </tr>\n",
       "    <tr>\n",
       "      <th>2018</th>\n",
       "      <td>0.3713</td>\n",
       "      <td>0.4914</td>\n",
       "      <td>0.1347</td>\n",
       "      <td>0.0995</td>\n",
       "      <td>0.0768</td>\n",
       "      <td>0.0</td>\n",
       "      <td>0.0880</td>\n",
       "      <td>0.0732</td>\n",
       "    </tr>\n",
       "    <tr>\n",
       "      <th>2019</th>\n",
       "      <td>0.4154</td>\n",
       "      <td>0.4863</td>\n",
       "      <td>0.0000</td>\n",
       "      <td>0.0901</td>\n",
       "      <td>0.0939</td>\n",
       "      <td>0.0</td>\n",
       "      <td>0.0972</td>\n",
       "      <td>0.0000</td>\n",
       "    </tr>\n",
       "  </tbody>\n",
       "</table>\n",
       "</div>"
      ],
      "text/plain": [
       "        IFBA    UFBA    UEFS    UNEB  IFBAIANO  UESB  UNIVASF    UESC\n",
       "2015  0.4310  0.3471  0.3304  0.1562    0.0732   0.0   0.0325  0.0401\n",
       "2016  0.4358  0.3207  0.2819  0.0431    0.0789   0.0   0.0588  0.0261\n",
       "2017  0.3861  0.4970  0.3079  0.0861    0.0763   0.0   0.0761  0.0000\n",
       "2018  0.3713  0.4914  0.1347  0.0995    0.0768   0.0   0.0880  0.0732\n",
       "2019  0.4154  0.4863  0.0000  0.0901    0.0939   0.0   0.0972  0.0000"
      ]
     },
     "metadata": {},
     "output_type": "display_data"
    }
   ],
   "source": [
    "print('\\n\\nDiversidade de Reserva de Vaga')\n",
    "display(pd.DataFrame.from_dict(std_reserva).set_index([pd.Index([2015, 2016, 2017, 2018, 2019])]))"
   ]
  },
  {
   "cell_type": "markdown",
   "id": "71d68edd",
   "metadata": {},
   "source": [
    "## Análise da dimensão Deficiência\n"
   ]
  },
  {
   "cell_type": "code",
   "execution_count": 188,
   "id": "2d9eaa11",
   "metadata": {},
   "outputs": [
    {
     "data": {
      "text/plain": [
       "Normal             14343\n",
       "Sem Deficiência     3926\n",
       "Deficiente           145\n",
       "Name: IN_DEFICIENCIA, dtype: int64"
      ]
     },
     "execution_count": 188,
     "metadata": {},
     "output_type": "execute_result"
    }
   ],
   "source": [
    "data_frame_diversidade['IN_DEFICIENCIA'].value_counts()"
   ]
  },
  {
   "cell_type": "code",
   "execution_count": 190,
   "id": "806bc7b0",
   "metadata": {},
   "outputs": [
    {
     "data": {
      "text/plain": [
       "Normal        14343\n",
       "Deficiente      145\n",
       "Name: IN_DEFICIENCIA, dtype: int64"
      ]
     },
     "execution_count": 190,
     "metadata": {},
     "output_type": "execute_result"
    }
   ],
   "source": [
    "dataframe_temp = data_frame_diversidade[(data_frame_diversidade['IN_DEFICIENCIA'] != 'Sem Deficiência')]\n",
    "dataframe_temp['IN_DEFICIENCIA'].value_counts()"
   ]
  },
  {
   "cell_type": "code",
   "execution_count": 191,
   "id": "eacf8072",
   "metadata": {},
   "outputs": [],
   "source": [
    "std_deficiencia = calcula_diversidade_global(dataframe_temp, 'IN_DEFICIENCIA', 'IN_DEFICIENCIA_QUANTIDADE' )"
   ]
  },
  {
   "cell_type": "code",
   "execution_count": 214,
   "id": "aed4daec",
   "metadata": {},
   "outputs": [
    {
     "name": "stdout",
     "output_type": "stream",
     "text": [
      "\n",
      "\n",
      "Diversidade de Deficiências\n"
     ]
    },
    {
     "data": {
      "text/html": [
       "<div>\n",
       "<style scoped>\n",
       "    .dataframe tbody tr th:only-of-type {\n",
       "        vertical-align: middle;\n",
       "    }\n",
       "\n",
       "    .dataframe tbody tr th {\n",
       "        vertical-align: top;\n",
       "    }\n",
       "\n",
       "    .dataframe thead th {\n",
       "        text-align: right;\n",
       "    }\n",
       "</style>\n",
       "<table border=\"1\" class=\"dataframe\">\n",
       "  <thead>\n",
       "    <tr style=\"text-align: right;\">\n",
       "      <th></th>\n",
       "      <th>IFBA</th>\n",
       "      <th>UFBA</th>\n",
       "      <th>UEFS</th>\n",
       "      <th>UNEB</th>\n",
       "      <th>IFBAIANO</th>\n",
       "      <th>UESB</th>\n",
       "      <th>UNIVASF</th>\n",
       "      <th>UESC</th>\n",
       "    </tr>\n",
       "  </thead>\n",
       "  <tbody>\n",
       "    <tr>\n",
       "      <th>2015</th>\n",
       "      <td>0.1854</td>\n",
       "      <td>0.7022</td>\n",
       "      <td>NaN</td>\n",
       "      <td>0.2131</td>\n",
       "      <td>0.1445</td>\n",
       "      <td>0.1739</td>\n",
       "      <td>NaN</td>\n",
       "      <td>NaN</td>\n",
       "    </tr>\n",
       "    <tr>\n",
       "      <th>2016</th>\n",
       "      <td>0.1026</td>\n",
       "      <td>0.7028</td>\n",
       "      <td>NaN</td>\n",
       "      <td>0.2116</td>\n",
       "      <td>0.1575</td>\n",
       "      <td>0.1575</td>\n",
       "      <td>NaN</td>\n",
       "      <td>0.1307</td>\n",
       "    </tr>\n",
       "    <tr>\n",
       "      <th>2017</th>\n",
       "      <td>0.1622</td>\n",
       "      <td>0.7028</td>\n",
       "      <td>NaN</td>\n",
       "      <td>0.2197</td>\n",
       "      <td>0.1443</td>\n",
       "      <td>0.1500</td>\n",
       "      <td>NaN</td>\n",
       "      <td>0.1393</td>\n",
       "    </tr>\n",
       "    <tr>\n",
       "      <th>2018</th>\n",
       "      <td>0.2266</td>\n",
       "      <td>0.7031</td>\n",
       "      <td>NaN</td>\n",
       "      <td>0.2015</td>\n",
       "      <td>0.1378</td>\n",
       "      <td>0.1484</td>\n",
       "      <td>NaN</td>\n",
       "      <td>0.1325</td>\n",
       "    </tr>\n",
       "    <tr>\n",
       "      <th>2019</th>\n",
       "      <td>0.3684</td>\n",
       "      <td>0.7041</td>\n",
       "      <td>0.2426</td>\n",
       "      <td>0.1573</td>\n",
       "      <td>0.1421</td>\n",
       "      <td>0.1446</td>\n",
       "      <td>NaN</td>\n",
       "      <td>0.1119</td>\n",
       "    </tr>\n",
       "  </tbody>\n",
       "</table>\n",
       "</div>"
      ],
      "text/plain": [
       "        IFBA    UFBA    UEFS    UNEB  IFBAIANO    UESB  UNIVASF    UESC\n",
       "2015  0.1854  0.7022     NaN  0.2131    0.1445  0.1739      NaN     NaN\n",
       "2016  0.1026  0.7028     NaN  0.2116    0.1575  0.1575      NaN  0.1307\n",
       "2017  0.1622  0.7028     NaN  0.2197    0.1443  0.1500      NaN  0.1393\n",
       "2018  0.2266  0.7031     NaN  0.2015    0.1378  0.1484      NaN  0.1325\n",
       "2019  0.3684  0.7041  0.2426  0.1573    0.1421  0.1446      NaN  0.1119"
      ]
     },
     "metadata": {},
     "output_type": "display_data"
    }
   ],
   "source": [
    "print('\\n\\nDiversidade de Deficiências')\n",
    "display(pd.DataFrame.from_dict(std_deficiencia).set_index([pd.Index([2015, 2016, 2017, 2018, 2019])]))"
   ]
  },
  {
   "cell_type": "markdown",
   "id": "812b4775",
   "metadata": {},
   "source": [
    "## Análise da dimensão Faixa etária"
   ]
  },
  {
   "cell_type": "code",
   "execution_count": 163,
   "id": "49f18813",
   "metadata": {},
   "outputs": [
    {
     "data": {
      "text/plain": [
       "0"
      ]
     },
     "metadata": {},
     "output_type": "display_data"
    }
   ],
   "source": [
    "display(data_frame_diversidade['NU_IDADE'].isnull().sum())"
   ]
  },
  {
   "cell_type": "code",
   "execution_count": 164,
   "id": "01c27083",
   "metadata": {},
   "outputs": [
    {
     "data": {
      "text/plain": [
       "0"
      ]
     },
     "metadata": {},
     "output_type": "display_data"
    }
   ],
   "source": [
    "display(data_frame_diversidade['NU_IDADE'].isna().sum())"
   ]
  },
  {
   "cell_type": "code",
   "execution_count": 166,
   "id": "5b661b66",
   "metadata": {},
   "outputs": [],
   "source": [
    "std_idade = {'IFBA': [], 'UFBA': [], 'UEFS': [], 'UNEB': [], 'IFBAIANO': [], 'UESB': [], 'UNIVASF': [], 'UESC': []}\n",
    "\n",
    "for ano in ANOS:\n",
    "    current_dataframe = data_frame_diversidade[data_frame_diversidade['NU_ANO_CENSO'] == ano]\n",
    "    for universidade in UNIVERSIDADES:        \n",
    "        current_dataframe_temp = current_dataframe[current_dataframe['SG_IES'] == universidade] \n",
    "        std_result = calculo_desvio_padrao('NU_IDADE', current_dataframe_temp)    \n",
    "        std_idade[universidade].append(std_result)\n"
   ]
  },
  {
   "cell_type": "code",
   "execution_count": 215,
   "id": "da53904c",
   "metadata": {},
   "outputs": [
    {
     "name": "stdout",
     "output_type": "stream",
     "text": [
      "\n",
      "\n",
      "Diversidade de Faixa Etária\n"
     ]
    },
    {
     "data": {
      "text/html": [
       "<div>\n",
       "<style scoped>\n",
       "    .dataframe tbody tr th:only-of-type {\n",
       "        vertical-align: middle;\n",
       "    }\n",
       "\n",
       "    .dataframe tbody tr th {\n",
       "        vertical-align: top;\n",
       "    }\n",
       "\n",
       "    .dataframe thead th {\n",
       "        text-align: right;\n",
       "    }\n",
       "</style>\n",
       "<table border=\"1\" class=\"dataframe\">\n",
       "  <thead>\n",
       "    <tr style=\"text-align: right;\">\n",
       "      <th></th>\n",
       "      <th>IFBA</th>\n",
       "      <th>UFBA</th>\n",
       "      <th>UEFS</th>\n",
       "      <th>UNEB</th>\n",
       "      <th>IFBAIANO</th>\n",
       "      <th>UESB</th>\n",
       "      <th>UNIVASF</th>\n",
       "      <th>UESC</th>\n",
       "    </tr>\n",
       "  </thead>\n",
       "  <tbody>\n",
       "    <tr>\n",
       "      <th>2015</th>\n",
       "      <td>7.1478</td>\n",
       "      <td>5.9189</td>\n",
       "      <td>3.5537</td>\n",
       "      <td>5.7063</td>\n",
       "      <td>7.1150</td>\n",
       "      <td>4.1488</td>\n",
       "      <td>4.7406</td>\n",
       "      <td>4.7779</td>\n",
       "    </tr>\n",
       "    <tr>\n",
       "      <th>2016</th>\n",
       "      <td>7.2188</td>\n",
       "      <td>6.1490</td>\n",
       "      <td>3.3543</td>\n",
       "      <td>5.4729</td>\n",
       "      <td>6.9846</td>\n",
       "      <td>4.1811</td>\n",
       "      <td>4.7514</td>\n",
       "      <td>3.9310</td>\n",
       "    </tr>\n",
       "    <tr>\n",
       "      <th>2017</th>\n",
       "      <td>7.5999</td>\n",
       "      <td>6.6709</td>\n",
       "      <td>3.6481</td>\n",
       "      <td>5.8396</td>\n",
       "      <td>6.2391</td>\n",
       "      <td>3.9899</td>\n",
       "      <td>4.8307</td>\n",
       "      <td>3.7883</td>\n",
       "    </tr>\n",
       "    <tr>\n",
       "      <th>2018</th>\n",
       "      <td>7.4512</td>\n",
       "      <td>6.9949</td>\n",
       "      <td>3.7665</td>\n",
       "      <td>6.0166</td>\n",
       "      <td>6.1929</td>\n",
       "      <td>4.2479</td>\n",
       "      <td>4.5633</td>\n",
       "      <td>4.4100</td>\n",
       "    </tr>\n",
       "    <tr>\n",
       "      <th>2019</th>\n",
       "      <td>6.8866</td>\n",
       "      <td>7.1936</td>\n",
       "      <td>3.8909</td>\n",
       "      <td>5.8875</td>\n",
       "      <td>5.4825</td>\n",
       "      <td>3.8970</td>\n",
       "      <td>4.9169</td>\n",
       "      <td>3.7824</td>\n",
       "    </tr>\n",
       "  </tbody>\n",
       "</table>\n",
       "</div>"
      ],
      "text/plain": [
       "        IFBA    UFBA    UEFS    UNEB  IFBAIANO    UESB  UNIVASF    UESC\n",
       "2015  7.1478  5.9189  3.5537  5.7063    7.1150  4.1488   4.7406  4.7779\n",
       "2016  7.2188  6.1490  3.3543  5.4729    6.9846  4.1811   4.7514  3.9310\n",
       "2017  7.5999  6.6709  3.6481  5.8396    6.2391  3.9899   4.8307  3.7883\n",
       "2018  7.4512  6.9949  3.7665  6.0166    6.1929  4.2479   4.5633  4.4100\n",
       "2019  6.8866  7.1936  3.8909  5.8875    5.4825  3.8970   4.9169  3.7824"
      ]
     },
     "metadata": {},
     "output_type": "display_data"
    }
   ],
   "source": [
    "print('\\n\\nDiversidade de Faixa Etária')\n",
    "display(pd.DataFrame.from_dict(std_idade).set_index([pd.Index([2015, 2016, 2017, 2018, 2019])]))"
   ]
  },
  {
   "cell_type": "code",
   "execution_count": null,
   "id": "0dffbd02",
   "metadata": {},
   "outputs": [],
   "source": []
  }
 ],
 "metadata": {
  "kernelspec": {
   "display_name": "Python 3 (ipykernel)",
   "language": "python",
   "name": "python3"
  },
  "language_info": {
   "codemirror_mode": {
    "name": "ipython",
    "version": 3
   },
   "file_extension": ".py",
   "mimetype": "text/x-python",
   "name": "python",
   "nbconvert_exporter": "python",
   "pygments_lexer": "ipython3",
   "version": "3.9.13"
  }
 },
 "nbformat": 4,
 "nbformat_minor": 5
}
