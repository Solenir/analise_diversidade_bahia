{
 "cells": [
  {
   "cell_type": "markdown",
   "id": "1ee290be",
   "metadata": {},
   "source": [
    "# Criação dos datasets considerando os cursos de TI do Brasil e da Bahia"
   ]
  },
  {
   "cell_type": "code",
   "execution_count": 2,
   "id": "1da89151",
   "metadata": {},
   "outputs": [],
   "source": [
    "import pandas as pd\n",
    "import matplotlib.pyplot as plt\n",
    "import seaborn as sns\n",
    "sns.set_theme()\n",
    "sns.set_style('whitegrid')"
   ]
  },
  {
   "cell_type": "code",
   "execution_count": 3,
   "id": "6a0a623a",
   "metadata": {},
   "outputs": [],
   "source": [
    "df_sup_aluno_tic = pd.read_csv('dataset/SUP_ALUNO_TIC_2015_2019.CSV', encoding='ISO-8859-1')\n",
    "df_curso_tic = pd.read_csv('dataset/SUP_CURSO_TIC_2015_2019.CSV', usecols=['NU_ANO_CENSO', 'CO_IES', 'CO_CURSO', 'NO_CURSO', 'CO_UF'], encoding='ISO-8859-1')\n",
    "df_dados_ies = pd.read_csv('dataset/SUP_IES_2015_2019.CSV', encoding='ISO-8859-1', usecols=['NU_ANO_CENSO', 'CO_IES', 'SG_IES', 'CO_UF'])\n"
   ]
  },
  {
   "cell_type": "code",
   "execution_count": 4,
   "id": "6d5c841c",
   "metadata": {},
   "outputs": [
    {
     "data": {
      "text/html": [
       "<div>\n",
       "<style scoped>\n",
       "    .dataframe tbody tr th:only-of-type {\n",
       "        vertical-align: middle;\n",
       "    }\n",
       "\n",
       "    .dataframe tbody tr th {\n",
       "        vertical-align: top;\n",
       "    }\n",
       "\n",
       "    .dataframe thead th {\n",
       "        text-align: right;\n",
       "    }\n",
       "</style>\n",
       "<table border=\"1\" class=\"dataframe\">\n",
       "  <thead>\n",
       "    <tr style=\"text-align: right;\">\n",
       "      <th></th>\n",
       "      <th>NU_ANO_CENSO</th>\n",
       "      <th>CO_IES</th>\n",
       "      <th>TP_CATEGORIA_ADMINISTRATIVA</th>\n",
       "      <th>TP_ORGANIZACAO_ACADEMICA</th>\n",
       "      <th>CO_CURSO</th>\n",
       "      <th>CO_CURSO_POLO</th>\n",
       "      <th>TP_TURNO</th>\n",
       "      <th>TP_GRAU_ACADEMICO</th>\n",
       "      <th>TP_MODALIDADE_ENSINO</th>\n",
       "      <th>TP_NIVEL_ACADEMICO</th>\n",
       "      <th>...</th>\n",
       "      <th>TP_MOBILIDADE_ACADEMICA</th>\n",
       "      <th>TP_MOBILIDADE_ACADEMICA_INTERN</th>\n",
       "      <th>CO_IES_DESTINO</th>\n",
       "      <th>CO_PAIS_DESTINO</th>\n",
       "      <th>IN_MATRICULA</th>\n",
       "      <th>IN_CONCLUINTE</th>\n",
       "      <th>IN_INGRESSO_TOTAL</th>\n",
       "      <th>IN_INGRESSO_VAGA_NOVA</th>\n",
       "      <th>IN_INGRESSO_PROCESSO_SELETIVO</th>\n",
       "      <th>NU_ANO_INGRESSO</th>\n",
       "    </tr>\n",
       "  </thead>\n",
       "  <tbody>\n",
       "    <tr>\n",
       "      <th>0</th>\n",
       "      <td>2015</td>\n",
       "      <td>572</td>\n",
       "      <td>1</td>\n",
       "      <td>1</td>\n",
       "      <td>82799</td>\n",
       "      <td>NaN</td>\n",
       "      <td>4.0</td>\n",
       "      <td>1.0</td>\n",
       "      <td>1</td>\n",
       "      <td>1</td>\n",
       "      <td>...</td>\n",
       "      <td>NaN</td>\n",
       "      <td>NaN</td>\n",
       "      <td>NaN</td>\n",
       "      <td>NaN</td>\n",
       "      <td>1</td>\n",
       "      <td>0</td>\n",
       "      <td>0</td>\n",
       "      <td>0</td>\n",
       "      <td>NaN</td>\n",
       "      <td>2008</td>\n",
       "    </tr>\n",
       "    <tr>\n",
       "      <th>1</th>\n",
       "      <td>2015</td>\n",
       "      <td>572</td>\n",
       "      <td>1</td>\n",
       "      <td>1</td>\n",
       "      <td>82799</td>\n",
       "      <td>NaN</td>\n",
       "      <td>4.0</td>\n",
       "      <td>1.0</td>\n",
       "      <td>1</td>\n",
       "      <td>1</td>\n",
       "      <td>...</td>\n",
       "      <td>NaN</td>\n",
       "      <td>NaN</td>\n",
       "      <td>NaN</td>\n",
       "      <td>NaN</td>\n",
       "      <td>1</td>\n",
       "      <td>0</td>\n",
       "      <td>0</td>\n",
       "      <td>0</td>\n",
       "      <td>NaN</td>\n",
       "      <td>2011</td>\n",
       "    </tr>\n",
       "    <tr>\n",
       "      <th>2</th>\n",
       "      <td>2015</td>\n",
       "      <td>572</td>\n",
       "      <td>1</td>\n",
       "      <td>1</td>\n",
       "      <td>82799</td>\n",
       "      <td>NaN</td>\n",
       "      <td>4.0</td>\n",
       "      <td>1.0</td>\n",
       "      <td>1</td>\n",
       "      <td>1</td>\n",
       "      <td>...</td>\n",
       "      <td>NaN</td>\n",
       "      <td>NaN</td>\n",
       "      <td>NaN</td>\n",
       "      <td>NaN</td>\n",
       "      <td>1</td>\n",
       "      <td>0</td>\n",
       "      <td>0</td>\n",
       "      <td>0</td>\n",
       "      <td>NaN</td>\n",
       "      <td>2009</td>\n",
       "    </tr>\n",
       "    <tr>\n",
       "      <th>3</th>\n",
       "      <td>2015</td>\n",
       "      <td>572</td>\n",
       "      <td>1</td>\n",
       "      <td>1</td>\n",
       "      <td>82799</td>\n",
       "      <td>NaN</td>\n",
       "      <td>4.0</td>\n",
       "      <td>1.0</td>\n",
       "      <td>1</td>\n",
       "      <td>1</td>\n",
       "      <td>...</td>\n",
       "      <td>NaN</td>\n",
       "      <td>NaN</td>\n",
       "      <td>NaN</td>\n",
       "      <td>NaN</td>\n",
       "      <td>1</td>\n",
       "      <td>0</td>\n",
       "      <td>0</td>\n",
       "      <td>0</td>\n",
       "      <td>NaN</td>\n",
       "      <td>2009</td>\n",
       "    </tr>\n",
       "    <tr>\n",
       "      <th>4</th>\n",
       "      <td>2015</td>\n",
       "      <td>572</td>\n",
       "      <td>1</td>\n",
       "      <td>1</td>\n",
       "      <td>82799</td>\n",
       "      <td>NaN</td>\n",
       "      <td>4.0</td>\n",
       "      <td>1.0</td>\n",
       "      <td>1</td>\n",
       "      <td>1</td>\n",
       "      <td>...</td>\n",
       "      <td>NaN</td>\n",
       "      <td>NaN</td>\n",
       "      <td>NaN</td>\n",
       "      <td>NaN</td>\n",
       "      <td>1</td>\n",
       "      <td>0</td>\n",
       "      <td>0</td>\n",
       "      <td>0</td>\n",
       "      <td>NaN</td>\n",
       "      <td>2009</td>\n",
       "    </tr>\n",
       "  </tbody>\n",
       "</table>\n",
       "<p>5 rows × 105 columns</p>\n",
       "</div>"
      ],
      "text/plain": [
       "   NU_ANO_CENSO  CO_IES  TP_CATEGORIA_ADMINISTRATIVA  \\\n",
       "0          2015     572                            1   \n",
       "1          2015     572                            1   \n",
       "2          2015     572                            1   \n",
       "3          2015     572                            1   \n",
       "4          2015     572                            1   \n",
       "\n",
       "   TP_ORGANIZACAO_ACADEMICA  CO_CURSO  CO_CURSO_POLO  TP_TURNO  \\\n",
       "0                         1     82799            NaN       4.0   \n",
       "1                         1     82799            NaN       4.0   \n",
       "2                         1     82799            NaN       4.0   \n",
       "3                         1     82799            NaN       4.0   \n",
       "4                         1     82799            NaN       4.0   \n",
       "\n",
       "   TP_GRAU_ACADEMICO  TP_MODALIDADE_ENSINO  TP_NIVEL_ACADEMICO  ...  \\\n",
       "0                1.0                     1                   1  ...   \n",
       "1                1.0                     1                   1  ...   \n",
       "2                1.0                     1                   1  ...   \n",
       "3                1.0                     1                   1  ...   \n",
       "4                1.0                     1                   1  ...   \n",
       "\n",
       "  TP_MOBILIDADE_ACADEMICA TP_MOBILIDADE_ACADEMICA_INTERN  CO_IES_DESTINO  \\\n",
       "0                     NaN                            NaN             NaN   \n",
       "1                     NaN                            NaN             NaN   \n",
       "2                     NaN                            NaN             NaN   \n",
       "3                     NaN                            NaN             NaN   \n",
       "4                     NaN                            NaN             NaN   \n",
       "\n",
       "   CO_PAIS_DESTINO  IN_MATRICULA  IN_CONCLUINTE  IN_INGRESSO_TOTAL  \\\n",
       "0              NaN             1              0                  0   \n",
       "1              NaN             1              0                  0   \n",
       "2              NaN             1              0                  0   \n",
       "3              NaN             1              0                  0   \n",
       "4              NaN             1              0                  0   \n",
       "\n",
       "   IN_INGRESSO_VAGA_NOVA  IN_INGRESSO_PROCESSO_SELETIVO  NU_ANO_INGRESSO  \n",
       "0                      0                            NaN             2008  \n",
       "1                      0                            NaN             2011  \n",
       "2                      0                            NaN             2009  \n",
       "3                      0                            NaN             2009  \n",
       "4                      0                            NaN             2009  \n",
       "\n",
       "[5 rows x 105 columns]"
      ]
     },
     "execution_count": 4,
     "metadata": {},
     "output_type": "execute_result"
    }
   ],
   "source": [
    "df_sup_aluno_tic.head()"
   ]
  },
  {
   "cell_type": "code",
   "execution_count": 5,
   "id": "ecdde525",
   "metadata": {},
   "outputs": [],
   "source": [
    "df_curso_tic = df_curso_tic.fillna(0)\n",
    "df_dados_ies = df_dados_ies.fillna(0)\n",
    "df_curso_tic = df_curso_tic.astype({'CO_UF': 'int32'})\n",
    "\n",
    "df_dados_ies = df_dados_ies.replace({'CO_UF':{' CULTURA E TECNOLOGIA SAO FIDELIS LTDA - EPP': 33}})\n",
    "df_dados_ies = df_dados_ies.astype({'CO_UF': 'int32'})"
   ]
  },
  {
   "cell_type": "code",
   "execution_count": 6,
   "id": "360f3661",
   "metadata": {},
   "outputs": [],
   "source": [
    "outer_merged = pd.merge(df_sup_aluno_tic, df_curso_tic, how=\"outer\", on=['NU_ANO_CENSO', 'CO_IES', 'CO_CURSO'])"
   ]
  },
  {
   "cell_type": "code",
   "execution_count": 7,
   "id": "e5583692",
   "metadata": {},
   "outputs": [],
   "source": [
    "outer_merged = pd.merge(outer_merged, df_dados_ies, how='outer', on=['NU_ANO_CENSO', 'CO_IES', 'CO_UF'])"
   ]
  },
  {
   "cell_type": "code",
   "execution_count": null,
   "id": "a7604240",
   "metadata": {},
   "outputs": [],
   "source": []
  },
  {
   "cell_type": "markdown",
   "id": "89f65429",
   "metadata": {},
   "source": [
    "## Filtros"
   ]
  },
  {
   "cell_type": "markdown",
   "id": "4cb6a912",
   "metadata": {},
   "source": [
    "Selecionando apenas os cursos da Bahia"
   ]
  },
  {
   "cell_type": "code",
   "execution_count": 8,
   "id": "24209630",
   "metadata": {},
   "outputs": [
    {
     "data": {
      "text/plain": [
       "(63627, 108)"
      ]
     },
     "metadata": {},
     "output_type": "display_data"
    }
   ],
   "source": [
    "curso_aluno_BA = outer_merged.loc[outer_merged.CO_UF == 29]\n",
    "display(curso_aluno_BA.shape)"
   ]
  },
  {
   "cell_type": "markdown",
   "id": "ff1a6fb8",
   "metadata": {},
   "source": [
    "Selecionando apenas os cursos presenciais"
   ]
  },
  {
   "cell_type": "code",
   "execution_count": 9,
   "id": "ec417a81",
   "metadata": {},
   "outputs": [
    {
     "data": {
      "text/plain": [
       "array([ 1., nan])"
      ]
     },
     "metadata": {},
     "output_type": "display_data"
    },
    {
     "data": {
      "text/plain": [
       "1.0    63210\n",
       "Name: TP_MODALIDADE_ENSINO, dtype: int64"
      ]
     },
     "metadata": {},
     "output_type": "display_data"
    },
    {
     "data": {
      "text/plain": [
       "(63210, 108)"
      ]
     },
     "metadata": {},
     "output_type": "display_data"
    }
   ],
   "source": [
    "display(curso_aluno_BA.TP_MODALIDADE_ENSINO.unique())\n",
    "display(curso_aluno_BA.TP_MODALIDADE_ENSINO.value_counts())\n",
    "curso_presencial = curso_aluno_BA.loc[curso_aluno_BA.TP_MODALIDADE_ENSINO == 1]\n",
    "display(curso_presencial.shape)"
   ]
  },
  {
   "cell_type": "markdown",
   "id": "8bc6e2f4",
   "metadata": {},
   "source": [
    "Selecionando apenas os cursos de Universidades públicas"
   ]
  },
  {
   "cell_type": "code",
   "execution_count": 10,
   "id": "ff4f1aa2",
   "metadata": {},
   "outputs": [
    {
     "data": {
      "text/plain": [
       "(24456, 108)"
      ]
     },
     "execution_count": 10,
     "metadata": {},
     "output_type": "execute_result"
    }
   ],
   "source": [
    "curso_presencial  = curso_presencial.loc[curso_presencial.TP_CATEGORIA_ADMINISTRATIVA.isin([1, 2, 3])]\n",
    "curso_presencial.shape"
   ]
  },
  {
   "cell_type": "markdown",
   "id": "560bc041",
   "metadata": {},
   "source": [
    "selecionando apenas os alunos cursando"
   ]
  },
  {
   "cell_type": "code",
   "execution_count": 11,
   "id": "cbf6b414",
   "metadata": {},
   "outputs": [
    {
     "data": {
      "text/plain": [
       "NO_CURSO\n",
       "ANÁLISE E DESENVOLVIMENTO DE SISTEMAS    2671\n",
       "CIÊNCIA DA COMPUTAÇÃO                    3898\n",
       "CIÊNCIAS DA COMPUTAÇÃO                    533\n",
       "COMPUTAÇÃO                               2649\n",
       "ENGENHARIA DA COMPUTAÇÃO                 1199\n",
       "ENGENHARIA DE COMPUTAÇÃO                 3101\n",
       "JOGOS DIGITAIS                            112\n",
       "REDES DE COMPUTADORES                      79\n",
       "SISTEMA DE INFORMAÇÃO                     477\n",
       "SISTEMAS DE INFORMAÇÃO                   3695\n",
       "dtype: int64"
      ]
     },
     "execution_count": 11,
     "metadata": {},
     "output_type": "execute_result"
    }
   ],
   "source": [
    "curso_presencial = curso_presencial.loc[curso_presencial['TP_SITUACAO'] == 2]\n",
    "curso_presencial.groupby(['NO_CURSO']).size()"
   ]
  },
  {
   "cell_type": "code",
   "execution_count": null,
   "id": "8cfa08ae",
   "metadata": {},
   "outputs": [],
   "source": []
  },
  {
   "cell_type": "code",
   "execution_count": 12,
   "id": "c2053b9d",
   "metadata": {},
   "outputs": [
    {
     "data": {
      "text/plain": [
       "CO_IES  SG_IES\n",
       "24      UESC       972\n",
       "40      UNEB      1467\n",
       "578     UFBA      5207\n",
       "666     UEFS      1952\n",
       "688     UESB      1143\n",
       "4503    UFRB        39\n",
       "dtype: int64"
      ]
     },
     "execution_count": 12,
     "metadata": {},
     "output_type": "execute_result"
    }
   ],
   "source": [
    "curso_presencial.groupby(['CO_IES', 'SG_IES']).size()"
   ]
  },
  {
   "cell_type": "code",
   "execution_count": 13,
   "id": "46066cdb",
   "metadata": {},
   "outputs": [
    {
     "data": {
      "text/plain": [
       "CO_IES\n",
       "24        972\n",
       "40       1467\n",
       "578      5207\n",
       "599      5369\n",
       "666      1952\n",
       "688      1143\n",
       "3984     1110\n",
       "4503       39\n",
       "14509    1155\n",
       "dtype: int64"
      ]
     },
     "execution_count": 13,
     "metadata": {},
     "output_type": "execute_result"
    }
   ],
   "source": [
    "curso_presencial.groupby(['CO_IES']).size()"
   ]
  },
  {
   "cell_type": "code",
   "execution_count": 14,
   "id": "23cdc931",
   "metadata": {},
   "outputs": [],
   "source": [
    "curso_presencial.loc[curso_presencial['CO_IES'] == 599, 'SG_IES'] = 'IFBA'"
   ]
  },
  {
   "cell_type": "code",
   "execution_count": 15,
   "id": "8cb7c913",
   "metadata": {},
   "outputs": [],
   "source": [
    "curso_presencial.loc[curso_presencial['CO_IES'] == 3984, 'SG_IES'] = 'UNIVASF'"
   ]
  },
  {
   "cell_type": "code",
   "execution_count": 16,
   "id": "e6723930",
   "metadata": {},
   "outputs": [],
   "source": [
    "curso_presencial.loc[curso_presencial['CO_IES'] == 14509, 'SG_IES'] = 'IFBAIANO'"
   ]
  },
  {
   "cell_type": "code",
   "execution_count": 28,
   "id": "5609c7b2",
   "metadata": {},
   "outputs": [],
   "source": [
    "curso_presencial.loc[curso_presencial['CO_IES'] == 4503, 'SG_IES'] = 'UFRB'"
   ]
  },
  {
   "cell_type": "code",
   "execution_count": 29,
   "id": "ba22a37a",
   "metadata": {},
   "outputs": [
    {
     "data": {
      "text/plain": [
       "CO_IES  SG_IES  \n",
       "24      UESC         972\n",
       "40      UNEB        1467\n",
       "578     UFBA        5207\n",
       "599     IFBA        5369\n",
       "666     UEFS        1952\n",
       "688     UESB        1143\n",
       "3984    UNIVASF     1110\n",
       "4503    UFRB          39\n",
       "14509   IFBAIANO    1155\n",
       "dtype: int64"
      ]
     },
     "execution_count": 29,
     "metadata": {},
     "output_type": "execute_result"
    }
   ],
   "source": [
    "curso_presencial.groupby(['CO_IES', 'SG_IES']).size()"
   ]
  },
  {
   "cell_type": "code",
   "execution_count": 30,
   "id": "ac1c0c70",
   "metadata": {},
   "outputs": [
    {
     "data": {
      "text/plain": [
       "IFBA        5369\n",
       "UFBA        5207\n",
       "UEFS        1952\n",
       "UNEB        1467\n",
       "IFBAIANO    1155\n",
       "UESB        1143\n",
       "UNIVASF     1110\n",
       "UESC         972\n",
       "UFRB          39\n",
       "Name: SG_IES, dtype: int64"
      ]
     },
     "execution_count": 30,
     "metadata": {},
     "output_type": "execute_result"
    }
   ],
   "source": [
    "curso_presencial['SG_IES'].value_counts()"
   ]
  },
  {
   "cell_type": "code",
   "execution_count": 18,
   "id": "60e8e977",
   "metadata": {},
   "outputs": [
    {
     "data": {
      "text/plain": [
       "(18414, 108)"
      ]
     },
     "metadata": {},
     "output_type": "display_data"
    }
   ],
   "source": [
    "display(curso_presencial.shape)"
   ]
  },
  {
   "cell_type": "code",
   "execution_count": 24,
   "id": "ddf32745",
   "metadata": {},
   "outputs": [
    {
     "data": {
      "text/plain": [
       "CO_CINE_ROTULO  NO_CURSO                             \n",
       "0114C05         CIÊNCIAS DA COMPUTAÇÃO                    533\n",
       "                COMPUTAÇÃO                               2649\n",
       "0612R01         REDES DE COMPUTADORES                      79\n",
       "0613J01         JOGOS DIGITAIS                            112\n",
       "0614C01         CIÊNCIA DA COMPUTAÇÃO                    3898\n",
       "0615S02         ANÁLISE E DESENVOLVIMENTO DE SISTEMAS    2671\n",
       "                SISTEMA DE INFORMAÇÃO                     477\n",
       "                SISTEMAS DE INFORMAÇÃO                   3695\n",
       "0616E01         ENGENHARIA DE COMPUTAÇÃO                 3062\n",
       "0714E04         ENGENHARIA DA COMPUTAÇÃO                 1199\n",
       "                ENGENHARIA DE COMPUTAÇÃO                   39\n",
       "dtype: int64"
      ]
     },
     "execution_count": 24,
     "metadata": {},
     "output_type": "execute_result"
    }
   ],
   "source": [
    "curso_presencial.groupby(['CO_CINE_ROTULO', 'NO_CURSO']).size()"
   ]
  },
  {
   "cell_type": "code",
   "execution_count": 22,
   "id": "0f87dc4b",
   "metadata": {},
   "outputs": [
    {
     "name": "stdout",
     "output_type": "stream",
     "text": [
      "<class 'pandas.core.frame.DataFrame'>\n",
      "Int64Index: 18414 entries, 22527 to 2781168\n",
      "Columns: 108 entries, NU_ANO_CENSO to SG_IES\n",
      "dtypes: float64(100), int32(1), int64(2), object(5)\n",
      "memory usage: 15.2+ MB\n"
     ]
    }
   ],
   "source": [
    "curso_presencial.info()\n"
   ]
  },
  {
   "cell_type": "code",
   "execution_count": null,
   "id": "564c9c24",
   "metadata": {},
   "outputs": [],
   "source": []
  },
  {
   "cell_type": "code",
   "execution_count": null,
   "id": "dd97815b",
   "metadata": {},
   "outputs": [],
   "source": []
  },
  {
   "cell_type": "code",
   "execution_count": 53,
   "id": "918f2213",
   "metadata": {},
   "outputs": [],
   "source": [
    "outer_merged.to_csv('dataset/alunos_curso_2015_2019_tic_br.csv', index=False)\n",
    "curso_presencial.to_csv('dataset/alunos_curso_2015_2019_tic_BA.csv', index=False)"
   ]
  },
  {
   "cell_type": "code",
   "execution_count": 27,
   "id": "7a819b12",
   "metadata": {},
   "outputs": [
    {
     "data": {
      "text/plain": [
       "4.0    1218032\n",
       "5.0     766828\n",
       "1.0     524323\n",
       "2.0     275224\n",
       "3.0      15397\n",
       "7.0      11168\n",
       "Name: TP_CATEGORIA_ADMINISTRATIVA, dtype: int64"
      ]
     },
     "execution_count": 27,
     "metadata": {},
     "output_type": "execute_result"
    }
   ],
   "source": [
    "outer_merged['TP_CATEGORIA_ADMINISTRATIVA'].value_counts()"
   ]
  },
  {
   "cell_type": "code",
   "execution_count": null,
   "id": "2cab0fc6",
   "metadata": {},
   "outputs": [],
   "source": []
  }
 ],
 "metadata": {
  "kernelspec": {
   "display_name": "Python 3 (ipykernel)",
   "language": "python",
   "name": "python3"
  },
  "language_info": {
   "codemirror_mode": {
    "name": "ipython",
    "version": 3
   },
   "file_extension": ".py",
   "mimetype": "text/x-python",
   "name": "python",
   "nbconvert_exporter": "python",
   "pygments_lexer": "ipython3",
   "version": "3.9.13"
  }
 },
 "nbformat": 4,
 "nbformat_minor": 5
}
