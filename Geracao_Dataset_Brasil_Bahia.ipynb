{
 "cells": [
  {
   "cell_type": "markdown",
   "id": "1ee290be",
   "metadata": {},
   "source": [
    "# Criação dos datasets considerando os cursos de TI do Brasil e da Bahia"
   ]
  },
  {
   "cell_type": "code",
   "execution_count": 3,
   "id": "1da89151",
   "metadata": {},
   "outputs": [],
   "source": [
    "import pandas as pd\n",
    "import matplotlib.pyplot as plt\n",
    "import seaborn as sns\n",
    "sns.set_theme()\n",
    "sns.set_style('whitegrid')"
   ]
  },
  {
   "cell_type": "code",
   "execution_count": null,
   "id": "6a0a623a",
   "metadata": {},
   "outputs": [],
   "source": [
    "df_sup_aluno_tic = pd.read_csv('dataset/SUP_ALUNO_TIC_2015_2019.CSV')\n",
    "df_curso_tic = pd.read_csv('dataset/SUP_CURSO_TIC_2015_2019.CSV', usecols=['NU_ANO_CENSO', 'CO_IES', 'CO_CURSO', 'NO_CURSO', 'CO_UF'])\n",
    "df_dados_ies = pd.read_csv('dataset/SUP_IES_2015_2019.CSV', encoding='ISO-8859-1', usecols=['NU_ANO_CENSO', 'CO_IES', 'SG_IES', 'CO_UF'])\n"
   ]
  },
  {
   "cell_type": "code",
   "execution_count": null,
   "id": "6d5c841c",
   "metadata": {},
   "outputs": [],
   "source": [
    "df_sup_aluno_tic.head()"
   ]
  },
  {
   "cell_type": "code",
   "execution_count": null,
   "id": "ecdde525",
   "metadata": {},
   "outputs": [],
   "source": [
    "df_curso_tic = df_curso_tic.fillna(0)\n",
    "df_dados_ies = df_dados_ies.fillna(0)\n",
    "df_curso_tic = df_curso_tic.astype({'CO_UF': 'int32'})\n",
    "\n",
    "df_dados_ies = df_dados_ies.replace({'CO_UF':{' CULTURA E TECNOLOGIA SAO FIDELIS LTDA - EPP': 33}})\n",
    "df_dados_ies = df_dados_ies.astype({'CO_UF': 'int32'})"
   ]
  },
  {
   "cell_type": "code",
   "execution_count": null,
   "id": "360f3661",
   "metadata": {},
   "outputs": [],
   "source": [
    "outer_merged = pd.merge(df_sup_aluno_tic, df_curso_tic, how=\"outer\", on=['NU_ANO_CENSO', 'CO_IES', 'CO_CURSO'])"
   ]
  },
  {
   "cell_type": "code",
   "execution_count": null,
   "id": "e5583692",
   "metadata": {},
   "outputs": [],
   "source": [
    "outer_merged = pd.merge(outer_merged, df_dados_ies, how='outer', on=['NU_ANO_CENSO', 'CO_IES', 'CO_UF'])"
   ]
  },
  {
   "cell_type": "code",
   "execution_count": null,
   "id": "a7604240",
   "metadata": {},
   "outputs": [],
   "source": []
  },
  {
   "cell_type": "markdown",
   "id": "89f65429",
   "metadata": {},
   "source": [
    "## Filtros"
   ]
  },
  {
   "cell_type": "markdown",
   "id": "4cb6a912",
   "metadata": {},
   "source": [
    "Selecionando apenas os cursos da Bahia"
   ]
  },
  {
   "cell_type": "code",
   "execution_count": null,
   "id": "24209630",
   "metadata": {},
   "outputs": [],
   "source": [
    "curso_aluno_BA = outer_merged.loc[outer_merged.CO_UF == 29]\n",
    "display(curso_aluno_BA.shape)"
   ]
  },
  {
   "cell_type": "markdown",
   "id": "ff1a6fb8",
   "metadata": {},
   "source": [
    "Selecionando apenas os cursos presenciais"
   ]
  },
  {
   "cell_type": "code",
   "execution_count": null,
   "id": "ec417a81",
   "metadata": {},
   "outputs": [],
   "source": [
    "display(curso_aluno_BA.TP_MODALIDADE_ENSINO.unique())\n",
    "display(curso_aluno_BA.TP_MODALIDADE_ENSINO.value_counts())\n",
    "curso_presencial = curso_aluno_BA.loc[curso_aluno_BA.TP_MODALIDADE_ENSINO == 1]\n",
    "display(curso_presencial.shape)"
   ]
  },
  {
   "cell_type": "markdown",
   "id": "8bc6e2f4",
   "metadata": {},
   "source": [
    "Selecionando apenas os cursos de Universidades públicas"
   ]
  },
  {
   "cell_type": "code",
   "execution_count": null,
   "id": "ff4f1aa2",
   "metadata": {},
   "outputs": [],
   "source": [
    "curso_presencial  = curso_presencial .loc[curso_presencial .TP_CATEGORIA_ADMINISTRATIVA.isin([1, 2, 3])]\n",
    "curso_presencial.shape"
   ]
  },
  {
   "cell_type": "markdown",
   "id": "560bc041",
   "metadata": {},
   "source": [
    "selecionando apenas os alunos cursando"
   ]
  },
  {
   "cell_type": "code",
   "execution_count": null,
   "id": "cbf6b414",
   "metadata": {},
   "outputs": [],
   "source": [
    "curso_presencial = curso_presencial.loc[curso_presencial['TP_SITUACAO'] == 2]\n",
    "curso_presencial.groupby(['NO_CURSO']).size()"
   ]
  },
  {
   "cell_type": "code",
   "execution_count": null,
   "id": "c2053b9d",
   "metadata": {},
   "outputs": [],
   "source": [
    "curso_presencial.groupby(['CO_IES']).size()"
   ]
  },
  {
   "cell_type": "code",
   "execution_count": null,
   "id": "60e8e977",
   "metadata": {},
   "outputs": [],
   "source": [
    "display(curso_presencial.shape)"
   ]
  },
  {
   "cell_type": "code",
   "execution_count": null,
   "id": "918f2213",
   "metadata": {},
   "outputs": [],
   "source": [
    "outer_merged.to_csv('dataset/alunos_curso_2015_2019_tic_br.csv', index=False)\n",
    "curso_presencial.to_csv('dataset/alunos_curso_2015_2019_tic_BA.csv', index=False)"
   ]
  }
 ],
 "metadata": {
  "kernelspec": {
   "display_name": "Python 3 (ipykernel)",
   "language": "python",
   "name": "python3"
  },
  "language_info": {
   "codemirror_mode": {
    "name": "ipython",
    "version": 3
   },
   "file_extension": ".py",
   "mimetype": "text/x-python",
   "name": "python",
   "nbconvert_exporter": "python",
   "pygments_lexer": "ipython3",
   "version": "3.9.13"
  }
 },
 "nbformat": 4,
 "nbformat_minor": 5
}
